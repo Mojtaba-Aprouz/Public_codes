{
  "nbformat": 4,
  "nbformat_minor": 0,
  "metadata": {
    "colab": {
      "name": "Untitled0.ipynb",
      "provenance": []
    },
    "kernelspec": {
      "name": "python3",
      "display_name": "Python 3"
    },
    "language_info": {
      "name": "python"
    }
  },
  "cells": [
    {
      "cell_type": "markdown",
      "source": [
        "Mojtaba Aprouz\n",
        "\n",
        "machine learning\n",
        "\n",
        "Face recognition\n",
        "\n",
        "\n"
      ],
      "metadata": {
        "id": "tlci-bPxT9V4"
      }
    },
    {
      "cell_type": "markdown",
      "source": [
        "Method:\n",
        "\n",
        "Feature extraction by 'PCA'\n",
        "\n",
        "Classification by 'SVM ( RBF )'"
      ],
      "metadata": {
        "id": "mQdSSwJrUbT8"
      }
    },
    {
      "cell_type": "code",
      "source": [
        "from google.colab import drive\n",
        "drive.mount('/content/drive')"
      ],
      "metadata": {
        "id": "bOVDg3rtfVSr",
        "colab": {
          "base_uri": "https://localhost:8080/"
        },
        "outputId": "ce14481d-e40b-4fca-b68b-24d4d4aaf9f0"
      },
      "execution_count": 128,
      "outputs": [
        {
          "output_type": "stream",
          "name": "stdout",
          "text": [
            "Drive already mounted at /content/drive; to attempt to forcibly remount, call drive.mount(\"/content/drive\", force_remount=True).\n"
          ]
        }
      ]
    },
    {
      "cell_type": "code",
      "execution_count": null,
      "metadata": {
        "id": "R6kXdh2H7Pp3"
      },
      "outputs": [],
      "source": [
        "#unrar dataset\n",
        "!unrar x /content/drive/MyDrive/Colab_Notebooks/Face_Recognition_Dataset.rar"
      ]
    },
    {
      "cell_type": "code",
      "source": [
        "#spliting folders of dataset to train and test\n",
        "!pip install split-folders\n",
        "import splitfolders\n",
        "splitfolders.ratio(\"/content/Face_Recognition_Dataset/CroppedYale\",output=\"dataset\",seed=1337,ratio=(0.8,0,0.2), group_prefix=None, move=False)\n"
      ],
      "metadata": {
        "colab": {
          "base_uri": "https://localhost:8080/"
        },
        "id": "xV8ZoOwsdGwG",
        "outputId": "11f13c76-65b0-45e4-d6e5-1533c9f34fc3"
      },
      "execution_count": 131,
      "outputs": [
        {
          "output_type": "stream",
          "name": "stderr",
          "text": [
            "Copying files: 2547 files [00:01, 1453.60 files/s]\n"
          ]
        }
      ]
    },
    {
      "cell_type": "code",
      "source": [
        "import os\n",
        "import numpy as np\n",
        "import cv2\n",
        "import pandas as pd\n",
        "from  matplotlib import pyplot as plt\n",
        "from skimage import io\n",
        "from sklearn.decomposition import PCA as RandomizedPCA\n",
        "from sklearn.svm import SVC\n",
        "from sklearn.metrics import classification_report\n",
        "from sklearn.metrics import confusion_matrix"
      ],
      "metadata": {
        "id": "E8xW7ySweQKo"
      },
      "execution_count": 257,
      "outputs": []
    },
    {
      "cell_type": "code",
      "source": [
        "#function of loading dataset\n",
        "def create_dataset(img_folder):\n",
        "   \n",
        "    img_data_array=[]\n",
        "    class_name=[]\n",
        "\n",
        "    for dir1 in os.listdir(img_folder):\n",
        "        for file in os.listdir(os.path.join(img_folder, dir1)):\n",
        "          if file[-4:]=='.pgm' or file[-4:]=='.bad':       \n",
        "            image_path= os.path.join(img_folder, dir1,  file)\n",
        "            #load image\n",
        "            image= cv2.imread( image_path,-1)\n",
        "            image=np.array(image)\n",
        "            #resize diffrente images\n",
        "            if (np.shape(image)[0]*np.shape(image)[1])!=(192*168):\n",
        "              image=cv2.resize(image, (192, 168),interpolation = cv2.INTER_AREA)\n",
        "            #reshape image to 1_dim array \n",
        "            image=np.reshape(image,np.shape(image)[0]*np.shape(image)[1])\n",
        "            img_data_array.append(image)\n",
        "            class_name.append(dir1)\n",
        "    return img_data_array, class_name"
      ],
      "metadata": {
        "id": "fqcicRUKlxMK"
      },
      "execution_count": 258,
      "outputs": []
    },
    {
      "cell_type": "code",
      "source": [
        "#loading train and test data\n",
        "X_train, Y_train =create_dataset(r'/content/dataset/train/');\n",
        "X_train=np.array(X_train)\n",
        "X_test, Y_test_class =create_dataset(r'/content/dataset/test/')\n",
        "X_test=np.array(X_test)\n"
      ],
      "metadata": {
        "id": "XV3jU9LymkQs"
      },
      "execution_count": 259,
      "outputs": []
    },
    {
      "cell_type": "code",
      "source": [
        "from sklearn.model_selection import RandomizedSearchCV\n",
        "from sklearn.utils.fixes import loguniform\n",
        "\n",
        "scores=[]\n",
        "estimators=[]\n",
        "best_score=0\n",
        "n_com=0\n",
        "for n_components in range(50,100,5):\n",
        "  #principal components \n",
        "  pca = RandomizedPCA(n_components=n_components, whiten=True).fit(X_train)\n",
        "  X_train_pca = pca.transform(X_train)\n",
        "  test_pc = pca.transform(X_test)\n",
        "  #Finding suit parametrs of SVM\n",
        "  param_grid = {\n",
        "      \"C\": loguniform(1e3, 1e5),\n",
        "      \"gamma\": loguniform(1e-4, 1e-1),\n",
        "  }\n",
        "  clf = RandomizedSearchCV(\n",
        "      SVC(kernel=\"rbf\", class_weight=\"balanced\"), param_grid, n_iter=20\n",
        "  )\n",
        "  #fitting on prin principal components\n",
        "  clf = clf.fit(X_train_pca, Y_train)\n",
        "  #Best estimator found by grid search\n",
        "  estimator=clf.best_estimator_\n",
        "  estimators.append(estimator)\n",
        "\n",
        "  #score\n",
        "  score=clf.score(test_pc , Y_test_class)\n",
        "  scores.append(score)\n",
        "  #best result\n",
        "  if score>best_score:\n",
        "    best_score=score\n",
        "    best_estimator=estimator\n",
        "    n_com=n_components"
      ],
      "metadata": {
        "id": "UwVIneurVUfG"
      },
      "execution_count": 260,
      "outputs": []
    },
    {
      "cell_type": "code",
      "source": [
        "#plotting result of differente number of principal components\n",
        "plt.plot(range(50,100,5),scores, 'r', )\n",
        "plt.xlabel(\"Number of components\")\n",
        "plt.ylabel(\"accuracy\")\n",
        "plt.show()"
      ],
      "metadata": {
        "colab": {
          "base_uri": "https://localhost:8080/",
          "height": 279
        },
        "id": "ZB-RC-_aFxNg",
        "outputId": "745e5b64-b58a-4493-a78a-8c4bb1d66514"
      },
      "execution_count": 269,
      "outputs": [
        {
          "output_type": "display_data",
          "data": {
            "text/plain": [
              "<Figure size 432x288 with 1 Axes>"
            ],
            "image/png": "[encoded data removed]"
          },
          "metadata": {
            "needs_background": "light"
          }
        }
      ]
    },
    {
      "cell_type": "code",
      "source": [
        "# best result\n",
        "n_components = n_com\n",
        "pca = RandomizedPCA(n_components=n_components, whiten=True).fit(X_train)\n",
        "X_train_pca = pca.transform(X_train)\n",
        "test_pca = pca.transform(X_test)\n",
        "svm = SVC(kernel='rbf' , class_weight='balanced' , C=best_estimator.C , gamma=best_estimator.gamma)\n",
        "svm.fit(X_train_pca , Y_train)\n",
        "print(\"best result on\",best_estimator )\n",
        "print(\"best features:\",n_components )\n",
        "print(\"score :\",svm.score(test_pca , Y_test_class))"
      ],
      "metadata": {
        "id": "t6cQZ4vsu4uj",
        "colab": {
          "base_uri": "https://localhost:8080/"
        },
        "outputId": "04939db7-96f6-4dfc-fa9b-f7bafe145b84"
      },
      "execution_count": 264,
      "outputs": [
        {
          "output_type": "stream",
          "name": "stdout",
          "text": [
            "best result on SVC(C=1114.9312255125146, class_weight='balanced', gamma=0.0009650675274249084)\n",
            "best features: 85\n",
            "score : 0.9642857142857143\n"
          ]
        }
      ]
    },
    {
      "cell_type": "code",
      "source": [
        "#precision    recall  f1-score   support\n",
        "print(\"Predicting the people names on the testing set\")\n",
        "y_pred = svm.predict(test_pca)\n",
        "print(classification_report(Y_test_class, y_pred))"
      ],
      "metadata": {
        "colab": {
          "base_uri": "https://localhost:8080/"
        },
        "id": "BjmzP8PGZZzg",
        "outputId": "15e72edd-49e0-42ad-f623-521eb0c37728"
      },
      "execution_count": 265,
      "outputs": [
        {
          "output_type": "stream",
          "name": "stdout",
          "text": [
            "Predicting the people names on the testing set\n",
            "              precision    recall  f1-score   support\n",
            "\n",
            "     yaleB01       1.00      0.93      0.96        14\n",
            "     yaleB02       0.93      1.00      0.97        14\n",
            "     yaleB03       0.88      1.00      0.93        14\n",
            "     yaleB04       0.88      1.00      0.93        14\n",
            "     yaleB05       1.00      1.00      1.00        14\n",
            "     yaleB06       0.93      1.00      0.97        14\n",
            "     yaleB07       0.78      1.00      0.88        14\n",
            "     yaleB08       0.93      1.00      0.97        14\n",
            "     yaleB09       0.93      1.00      0.97        14\n",
            "     yaleB10       1.00      0.93      0.96        14\n",
            "     yaleB11       0.87      0.93      0.90        14\n",
            "     yaleB12       1.00      1.00      1.00        14\n",
            "     yaleB13       1.00      0.93      0.96        14\n",
            "     yaleB15       1.00      1.00      1.00        14\n",
            "     yaleB16       1.00      0.79      0.88        14\n",
            "     yaleB17       1.00      1.00      1.00        14\n",
            "     yaleB18       1.00      1.00      1.00        14\n",
            "     yaleB19       1.00      1.00      1.00        14\n",
            "     yaleB20       1.00      0.86      0.92        14\n",
            "     yaleB21       0.88      1.00      0.93        14\n",
            "     yaleB22       1.00      1.00      1.00        14\n",
            "     yaleB23       0.93      1.00      0.97        14\n",
            "     yaleB24       1.00      1.00      1.00        14\n",
            "     yaleB25       0.93      1.00      0.97        14\n",
            "     yaleB26       1.00      1.00      1.00        14\n",
            "     yaleB27       0.92      0.86      0.89        14\n",
            "     yaleB28       1.00      1.00      1.00        14\n",
            "     yaleB29       1.00      1.00      1.00        14\n",
            "     yaleB30       1.00      1.00      1.00        14\n",
            "     yaleB31       1.00      1.00      1.00        14\n",
            "     yaleB32       1.00      0.79      0.88        14\n",
            "     yaleB33       1.00      1.00      1.00        14\n",
            "     yaleB34       1.00      0.93      0.96        14\n",
            "     yaleB35       1.00      1.00      1.00        14\n",
            "     yaleB36       1.00      0.93      0.96        14\n",
            "     yaleB37       1.00      0.93      0.96        14\n",
            "     yaleB38       1.00      1.00      1.00        14\n",
            "     yaleB39       1.00      0.86      0.92        14\n",
            "\n",
            "    accuracy                           0.96       532\n",
            "   macro avg       0.97      0.96      0.96       532\n",
            "weighted avg       0.97      0.96      0.96       532\n",
            "\n"
          ]
        }
      ]
    },
    {
      "cell_type": "code",
      "source": [
        "lst=(list(set(Y_test_class)))\n",
        "lst.sort()\n",
        "print(confusion_matrix(Y_test_class, y_pred,labels=lst))\n"
      ],
      "metadata": {
        "colab": {
          "base_uri": "https://localhost:8080/"
        },
        "id": "B10Q05n20w57",
        "outputId": "a1401287-f6cc-4217-bc12-9c18fe512617"
      },
      "execution_count": 266,
      "outputs": [
        {
          "output_type": "stream",
          "name": "stdout",
          "text": [
            "[[13  0  0 ...  0  0  0]\n",
            " [ 0 14  0 ...  0  0  0]\n",
            " [ 0  0 14 ...  0  0  0]\n",
            " ...\n",
            " [ 0  0  1 ... 13  0  0]\n",
            " [ 0  0  0 ...  0 14  0]\n",
            " [ 0  0  0 ...  0  0 12]]\n"
          ]
        }
      ]
    },
    {
      "cell_type": "code",
      "source": [
        "#confusion_matrix\n",
        "import pandas as pd\n",
        "df=pd.DataFrame(confusion_matrix(Y_test_class, y_pred,labels=lst),columns=lst,index=lst)\n",
        "pd.set_option('display.max_rows', None)\n",
        "pd.set_option('display.max_columns', None)\n",
        "pd.set_option('display.width', None)\n",
        "pd.set_option('display.max_colwidth', -1)\n",
        "print(df);"
      ],
      "metadata": {
        "colab": {
          "base_uri": "https://localhost:8080/"
        },
        "id": "JqyWv6jN-2-H",
        "outputId": "cb223633-6216-4976-ae5e-d515e0493a3b"
      },
      "execution_count": 268,
      "outputs": [
        {
          "output_type": "stream",
          "name": "stdout",
          "text": [
            "         yaleB01  yaleB02  yaleB03  yaleB04  yaleB05  yaleB06  yaleB07  \\\n",
            "yaleB01  13       0        0        0        0        0        0         \n",
            "yaleB02  0        14       0        0        0        0        0         \n",
            "yaleB03  0        0        14       0        0        0        0         \n",
            "yaleB04  0        0        0        14       0        0        0         \n",
            "yaleB05  0        0        0        0        14       0        0         \n",
            "yaleB06  0        0        0        0        0        14       0         \n",
            "yaleB07  0        0        0        0        0        0        14        \n",
            "yaleB08  0        0        0        0        0        0        0         \n",
            "yaleB09  0        0        0        0        0        0        0         \n",
            "yaleB10  0        0        0        0        0        1        0         \n",
            "yaleB11  0        0        0        0        0        0        0         \n",
            "yaleB12  0        0        0        0        0        0        0         \n",
            "yaleB13  0        0        0        1        0        0        0         \n",
            "yaleB15  0        0        0        0        0        0        0         \n",
            "yaleB16  0        0        1        1        0        0        1         \n",
            "yaleB17  0        0        0        0        0        0        0         \n",
            "yaleB18  0        0        0        0        0        0        0         \n",
            "yaleB19  0        0        0        0        0        0        0         \n",
            "yaleB20  0        0        0        0        0        0        2         \n",
            "yaleB21  0        0        0        0        0        0        0         \n",
            "yaleB22  0        0        0        0        0        0        0         \n",
            "yaleB23  0        0        0        0        0        0        0         \n",
            "yaleB24  0        0        0        0        0        0        0         \n",
            "yaleB25  0        0        0        0        0        0        0         \n",
            "yaleB26  0        0        0        0        0        0        0         \n",
            "yaleB27  0        0        0        0        0        0        0         \n",
            "yaleB28  0        0        0        0        0        0        0         \n",
            "yaleB29  0        0        0        0        0        0        0         \n",
            "yaleB30  0        0        0        0        0        0        0         \n",
            "yaleB31  0        0        0        0        0        0        0         \n",
            "yaleB32  0        1        0        0        0        0        0         \n",
            "yaleB33  0        0        0        0        0        0        0         \n",
            "yaleB34  0        0        0        0        0        0        0         \n",
            "yaleB35  0        0        0        0        0        0        0         \n",
            "yaleB36  0        0        0        0        0        0        0         \n",
            "yaleB37  0        0        1        0        0        0        0         \n",
            "yaleB38  0        0        0        0        0        0        0         \n",
            "yaleB39  0        0        0        0        0        0        1         \n",
            "\n",
            "         yaleB08  yaleB09  yaleB10  yaleB11  yaleB12  yaleB13  yaleB15  \\\n",
            "yaleB01  0        0        0        1        0        0        0         \n",
            "yaleB02  0        0        0        0        0        0        0         \n",
            "yaleB03  0        0        0        0        0        0        0         \n",
            "yaleB04  0        0        0        0        0        0        0         \n",
            "yaleB05  0        0        0        0        0        0        0         \n",
            "yaleB06  0        0        0        0        0        0        0         \n",
            "yaleB07  0        0        0        0        0        0        0         \n",
            "yaleB08  14       0        0        0        0        0        0         \n",
            "yaleB09  0        14       0        0        0        0        0         \n",
            "yaleB10  0        0        13       0        0        0        0         \n",
            "yaleB11  0        0        0        13       0        0        0         \n",
            "yaleB12  0        0        0        0        14       0        0         \n",
            "yaleB13  0        0        0        0        0        13       0         \n",
            "yaleB15  0        0        0        0        0        0        14        \n",
            "yaleB16  0        0        0        0        0        0        0         \n",
            "yaleB17  0        0        0        0        0        0        0         \n",
            "yaleB18  0        0        0        0        0        0        0         \n",
            "yaleB19  0        0        0        0        0        0        0         \n",
            "yaleB20  0        0        0        0        0        0        0         \n",
            "yaleB21  0        0        0        0        0        0        0         \n",
            "yaleB22  0        0        0        0        0        0        0         \n",
            "yaleB23  0        0        0        0        0        0        0         \n",
            "yaleB24  0        0        0        0        0        0        0         \n",
            "yaleB25  0        0        0        0        0        0        0         \n",
            "yaleB26  0        0        0        0        0        0        0         \n",
            "yaleB27  0        0        0        0        0        0        0         \n",
            "yaleB28  0        0        0        0        0        0        0         \n",
            "yaleB29  0        0        0        0        0        0        0         \n",
            "yaleB30  0        0        0        0        0        0        0         \n",
            "yaleB31  0        0        0        0        0        0        0         \n",
            "yaleB32  0        0        0        1        0        0        0         \n",
            "yaleB33  0        0        0        0        0        0        0         \n",
            "yaleB34  0        0        0        0        0        0        0         \n",
            "yaleB35  0        0        0        0        0        0        0         \n",
            "yaleB36  1        0        0        0        0        0        0         \n",
            "yaleB37  0        0        0        0        0        0        0         \n",
            "yaleB38  0        0        0        0        0        0        0         \n",
            "yaleB39  0        1        0        0        0        0        0         \n",
            "\n",
            "         yaleB16  yaleB17  yaleB18  yaleB19  yaleB20  yaleB21  yaleB22  \\\n",
            "yaleB01  0        0        0        0        0        0        0         \n",
            "yaleB02  0        0        0        0        0        0        0         \n",
            "yaleB03  0        0        0        0        0        0        0         \n",
            "yaleB04  0        0        0        0        0        0        0         \n",
            "yaleB05  0        0        0        0        0        0        0         \n",
            "yaleB06  0        0        0        0        0        0        0         \n",
            "yaleB07  0        0        0        0        0        0        0         \n",
            "yaleB08  0        0        0        0        0        0        0         \n",
            "yaleB09  0        0        0        0        0        0        0         \n",
            "yaleB10  0        0        0        0        0        0        0         \n",
            "yaleB11  0        0        0        0        0        0        0         \n",
            "yaleB12  0        0        0        0        0        0        0         \n",
            "yaleB13  0        0        0        0        0        0        0         \n",
            "yaleB15  0        0        0        0        0        0        0         \n",
            "yaleB16  11       0        0        0        0        0        0         \n",
            "yaleB17  0        14       0        0        0        0        0         \n",
            "yaleB18  0        0        14       0        0        0        0         \n",
            "yaleB19  0        0        0        14       0        0        0         \n",
            "yaleB20  0        0        0        0        12       0        0         \n",
            "yaleB21  0        0        0        0        0        14       0         \n",
            "yaleB22  0        0        0        0        0        0        14        \n",
            "yaleB23  0        0        0        0        0        0        0         \n",
            "yaleB24  0        0        0        0        0        0        0         \n",
            "yaleB25  0        0        0        0        0        0        0         \n",
            "yaleB26  0        0        0        0        0        0        0         \n",
            "yaleB27  0        0        0        0        0        2        0         \n",
            "yaleB28  0        0        0        0        0        0        0         \n",
            "yaleB29  0        0        0        0        0        0        0         \n",
            "yaleB30  0        0        0        0        0        0        0         \n",
            "yaleB31  0        0        0        0        0        0        0         \n",
            "yaleB32  0        0        0        0        0        0        0         \n",
            "yaleB33  0        0        0        0        0        0        0         \n",
            "yaleB34  0        0        0        0        0        0        0         \n",
            "yaleB35  0        0        0        0        0        0        0         \n",
            "yaleB36  0        0        0        0        0        0        0         \n",
            "yaleB37  0        0        0        0        0        0        0         \n",
            "yaleB38  0        0        0        0        0        0        0         \n",
            "yaleB39  0        0        0        0        0        0        0         \n",
            "\n",
            "         yaleB23  yaleB24  yaleB25  yaleB26  yaleB27  yaleB28  yaleB29  \\\n",
            "yaleB01  0        0        0        0        0        0        0         \n",
            "yaleB02  0        0        0        0        0        0        0         \n",
            "yaleB03  0        0        0        0        0        0        0         \n",
            "yaleB04  0        0        0        0        0        0        0         \n",
            "yaleB05  0        0        0        0        0        0        0         \n",
            "yaleB06  0        0        0        0        0        0        0         \n",
            "yaleB07  0        0        0        0        0        0        0         \n",
            "yaleB08  0        0        0        0        0        0        0         \n",
            "yaleB09  0        0        0        0        0        0        0         \n",
            "yaleB10  0        0        0        0        0        0        0         \n",
            "yaleB11  1        0        0        0        0        0        0         \n",
            "yaleB12  0        0        0        0        0        0        0         \n",
            "yaleB13  0        0        0        0        0        0        0         \n",
            "yaleB15  0        0        0        0        0        0        0         \n",
            "yaleB16  0        0        0        0        0        0        0         \n",
            "yaleB17  0        0        0        0        0        0        0         \n",
            "yaleB18  0        0        0        0        0        0        0         \n",
            "yaleB19  0        0        0        0        0        0        0         \n",
            "yaleB20  0        0        0        0        0        0        0         \n",
            "yaleB21  0        0        0        0        0        0        0         \n",
            "yaleB22  0        0        0        0        0        0        0         \n",
            "yaleB23  14       0        0        0        0        0        0         \n",
            "yaleB24  0        14       0        0        0        0        0         \n",
            "yaleB25  0        0        14       0        0        0        0         \n",
            "yaleB26  0        0        0        14       0        0        0         \n",
            "yaleB27  0        0        0        0        12       0        0         \n",
            "yaleB28  0        0        0        0        0        14       0         \n",
            "yaleB29  0        0        0        0        0        0        14        \n",
            "yaleB30  0        0        0        0        0        0        0         \n",
            "yaleB31  0        0        0        0        0        0        0         \n",
            "yaleB32  0        0        1        0        0        0        0         \n",
            "yaleB33  0        0        0        0        0        0        0         \n",
            "yaleB34  0        0        0        0        1        0        0         \n",
            "yaleB35  0        0        0        0        0        0        0         \n",
            "yaleB36  0        0        0        0        0        0        0         \n",
            "yaleB37  0        0        0        0        0        0        0         \n",
            "yaleB38  0        0        0        0        0        0        0         \n",
            "yaleB39  0        0        0        0        0        0        0         \n",
            "\n",
            "         yaleB30  yaleB31  yaleB32  yaleB33  yaleB34  yaleB35  yaleB36  \\\n",
            "yaleB01  0        0        0        0        0        0        0         \n",
            "yaleB02  0        0        0        0        0        0        0         \n",
            "yaleB03  0        0        0        0        0        0        0         \n",
            "yaleB04  0        0        0        0        0        0        0         \n",
            "yaleB05  0        0        0        0        0        0        0         \n",
            "yaleB06  0        0        0        0        0        0        0         \n",
            "yaleB07  0        0        0        0        0        0        0         \n",
            "yaleB08  0        0        0        0        0        0        0         \n",
            "yaleB09  0        0        0        0        0        0        0         \n",
            "yaleB10  0        0        0        0        0        0        0         \n",
            "yaleB11  0        0        0        0        0        0        0         \n",
            "yaleB12  0        0        0        0        0        0        0         \n",
            "yaleB13  0        0        0        0        0        0        0         \n",
            "yaleB15  0        0        0        0        0        0        0         \n",
            "yaleB16  0        0        0        0        0        0        0         \n",
            "yaleB17  0        0        0        0        0        0        0         \n",
            "yaleB18  0        0        0        0        0        0        0         \n",
            "yaleB19  0        0        0        0        0        0        0         \n",
            "yaleB20  0        0        0        0        0        0        0         \n",
            "yaleB21  0        0        0        0        0        0        0         \n",
            "yaleB22  0        0        0        0        0        0        0         \n",
            "yaleB23  0        0        0        0        0        0        0         \n",
            "yaleB24  0        0        0        0        0        0        0         \n",
            "yaleB25  0        0        0        0        0        0        0         \n",
            "yaleB26  0        0        0        0        0        0        0         \n",
            "yaleB27  0        0        0        0        0        0        0         \n",
            "yaleB28  0        0        0        0        0        0        0         \n",
            "yaleB29  0        0        0        0        0        0        0         \n",
            "yaleB30  14       0        0        0        0        0        0         \n",
            "yaleB31  0        14       0        0        0        0        0         \n",
            "yaleB32  0        0        11       0        0        0        0         \n",
            "yaleB33  0        0        0        14       0        0        0         \n",
            "yaleB34  0        0        0        0        13       0        0         \n",
            "yaleB35  0        0        0        0        0        14       0         \n",
            "yaleB36  0        0        0        0        0        0        13        \n",
            "yaleB37  0        0        0        0        0        0        0         \n",
            "yaleB38  0        0        0        0        0        0        0         \n",
            "yaleB39  0        0        0        0        0        0        0         \n",
            "\n",
            "         yaleB37  yaleB38  yaleB39  \n",
            "yaleB01  0        0        0        \n",
            "yaleB02  0        0        0        \n",
            "yaleB03  0        0        0        \n",
            "yaleB04  0        0        0        \n",
            "yaleB05  0        0        0        \n",
            "yaleB06  0        0        0        \n",
            "yaleB07  0        0        0        \n",
            "yaleB08  0        0        0        \n",
            "yaleB09  0        0        0        \n",
            "yaleB10  0        0        0        \n",
            "yaleB11  0        0        0        \n",
            "yaleB12  0        0        0        \n",
            "yaleB13  0        0        0        \n",
            "yaleB15  0        0        0        \n",
            "yaleB16  0        0        0        \n",
            "yaleB17  0        0        0        \n",
            "yaleB18  0        0        0        \n",
            "yaleB19  0        0        0        \n",
            "yaleB20  0        0        0        \n",
            "yaleB21  0        0        0        \n",
            "yaleB22  0        0        0        \n",
            "yaleB23  0        0        0        \n",
            "yaleB24  0        0        0        \n",
            "yaleB25  0        0        0        \n",
            "yaleB26  0        0        0        \n",
            "yaleB27  0        0        0        \n",
            "yaleB28  0        0        0        \n",
            "yaleB29  0        0        0        \n",
            "yaleB30  0        0        0        \n",
            "yaleB31  0        0        0        \n",
            "yaleB32  0        0        0        \n",
            "yaleB33  0        0        0        \n",
            "yaleB34  0        0        0        \n",
            "yaleB35  0        0        0        \n",
            "yaleB36  0        0        0        \n",
            "yaleB37  13       0        0        \n",
            "yaleB38  0        14       0        \n",
            "yaleB39  0        0        12       \n"
          ]
        },
        {
          "output_type": "stream",
          "name": "stderr",
          "text": [
            "/usr/local/lib/python3.7/dist-packages/ipykernel_launcher.py:7: FutureWarning: Passing a negative integer is deprecated in version 1.0 and will not be supported in future version. Instead, use None to not limit the column width.\n",
            "  import sys\n"
          ]
        }
      ]
    }
  ]
}
