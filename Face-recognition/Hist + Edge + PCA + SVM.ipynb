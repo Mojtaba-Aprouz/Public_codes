{
  "cells": [
    {
      "cell_type": "markdown",
      "source": [
        "Mojtaba Aprouz - 40030594\n",
        "\n",
        "Final project of machine learning\n",
        "\n",
        "Face recognition\n",
        "\n",
        "\n"
      ],
      "metadata": {
        "id": "UhbfMbOYU4By"
      }
    },
    {
      "cell_type": "markdown",
      "source": [
        "Method:\n",
        "\n",
        "Preprocesses by 'Histogram equalizetion' then 'Edge detection'\n",
        "\n",
        "Feature extraction by 'PCA'\n",
        "\n",
        "Classification by 'SVM ( RBF )'"
      ],
      "metadata": {
        "id": "zueDW8XkU_W2"
      }
    },
    {
      "cell_type": "code",
      "execution_count": 1,
      "metadata": {
        "colab": {
          "base_uri": "https://localhost:8080/"
        },
        "id": "bOVDg3rtfVSr",
        "outputId": "57327210-c00c-46fa-b884-e2cc2783d20d"
      },
      "outputs": [
        {
          "output_type": "stream",
          "name": "stdout",
          "text": [
            "Mounted at /content/drive\n"
          ]
        }
      ],
      "source": [
        "from google.colab import drive\n",
        "drive.mount('/content/drive')"
      ]
    },
    {
      "cell_type": "code",
      "execution_count": null,
      "metadata": {
        "id": "R6kXdh2H7Pp3"
      },
      "outputs": [],
      "source": [
        "# unrar dataset\n",
        "!unrar x /content/drive/MyDrive/Colab_Notebooks/Face_Recognition_Dataset.rar"
      ]
    },
    {
      "cell_type": "code",
      "execution_count": 4,
      "metadata": {
        "colab": {
          "base_uri": "https://localhost:8080/"
        },
        "id": "xV8ZoOwsdGwG",
        "outputId": "d4eb2057-97fe-4b56-bb12-59c057f26727"
      },
      "outputs": [
        {
          "output_type": "stream",
          "name": "stderr",
          "text": [
            "Copying files: 2547 files [00:00, 4491.36 files/s]\n"
          ]
        }
      ],
      "source": [
        "#spliting folders of dataset to train and test\n",
        "!pip install split-folders\n",
        "import splitfolders\n",
        "splitfolders.ratio(\"/content/Face_Recognition_Dataset/CroppedYale\",output=\"dataset\",seed=1337,ratio=(0.8,0,0.2), group_prefix=None, move=False)\n"
      ]
    },
    {
      "cell_type": "code",
      "execution_count": 151,
      "metadata": {
        "id": "E8xW7ySweQKo"
      },
      "outputs": [],
      "source": [
        "import os\n",
        "import numpy as np\n",
        "import cv2\n",
        "import pandas as pd\n",
        "from  matplotlib import pyplot as plt\n",
        "from skimage import io\n",
        "from sklearn.decomposition import PCA as RandomizedPCA\n",
        "from sklearn.svm import SVC\n",
        "from sklearn.metrics import classification_report\n",
        "from sklearn.metrics import confusion_matrix"
      ]
    },
    {
      "cell_type": "code",
      "execution_count": 152,
      "metadata": {
        "id": "fqcicRUKlxMK"
      },
      "outputs": [],
      "source": [
        "#function of loading dataset \n",
        "#preprocesses : histogram equalizetion then edge detection\n",
        "def create_dataset(img_folder):\n",
        "   \n",
        "    img_data_array=[]\n",
        "    class_name=[]\n",
        "\n",
        "    for dir1 in os.listdir(img_folder):\n",
        "        for file in os.listdir(os.path.join(img_folder, dir1)):\n",
        "          if file[-4:]=='.pgm' or file[-4:]=='.bad':       \n",
        "            image_path= os.path.join(img_folder, dir1,  file)\n",
        "            #load image\n",
        "            image= cv2.imread( image_path,-1) \n",
        "            image=np.array(image)\n",
        "            #resize diffrente images\n",
        "            if (np.shape(image)[0]*np.shape(image)[1])!=(192*168):\n",
        "              image=cv2.resize(image, (192, 168),interpolation = cv2.INTER_AREA)\n",
        "            #histogram equalizetion\n",
        "            image = cv2.equalizeHist(image)\n",
        "            #extract edges of image\n",
        "            edges = cv2.Canny(image=image, threshold1=100, threshold2=200)\n",
        "            #reshape image to 1_dim array \n",
        "            edges=np.reshape(edges,np.shape(edges)[0]*np.shape(edges)[1])\n",
        "            img_data_array.append(edges)\n",
        "            class_name.append(dir1)\n",
        "    return img_data_array, class_name"
      ]
    },
    {
      "cell_type": "code",
      "execution_count": 153,
      "metadata": {
        "id": "XV3jU9LymkQs"
      },
      "outputs": [],
      "source": [
        "#loading train and test data\n",
        "X_train, Y_train =create_dataset(r'/content/dataset/train/');\n",
        "X_train=np.array(X_train)\n",
        "X_test, Y_test_class =create_dataset(r'/content/dataset/test/')\n",
        "X_test=np.array(X_test)"
      ]
    },
    {
      "cell_type": "code",
      "source": [
        "from sklearn.model_selection import RandomizedSearchCV\n",
        "from sklearn.utils.fixes import loguniform\n",
        "\n",
        "scores=[]\n",
        "estimators=[]\n",
        "best_score=0\n",
        "n_com=0\n",
        "for n_components in range(50,100,5):\n",
        "  #principal components \n",
        "  pca = RandomizedPCA(n_components=n_components, whiten=True).fit(X_train)\n",
        "  X_train_pca = pca.transform(X_train)\n",
        "  test_pc = pca.transform(X_test)\n",
        "  #Finding suit parametrs of SVM\n",
        "  param_grid = {\n",
        "      \"C\": loguniform(1e3, 1e5),\n",
        "      \"gamma\": loguniform(1e-4, 1e-1),\n",
        "  }\n",
        "  clf = RandomizedSearchCV(\n",
        "      SVC(kernel=\"rbf\", class_weight=\"balanced\"), param_grid, n_iter=20\n",
        "  )\n",
        "  #fitting on prin principal components\n",
        "  clf = clf.fit(X_train_pca, Y_train)\n",
        "  #Best estimator found by grid search\n",
        "  estimator=clf.best_estimator_\n",
        "  estimators.append(estimator)\n",
        "\n",
        "  #score\n",
        "  score=clf.score(test_pc , Y_test_class)\n",
        "  scores.append(score)\n",
        "  #best result\n",
        "  if score>best_score:\n",
        "    best_score=score\n",
        "    best_estimator=estimator\n",
        "    n_com=n_components"
      ],
      "metadata": {
        "id": "xabR-53E2Bbv"
      },
      "execution_count": 154,
      "outputs": []
    },
    {
      "cell_type": "code",
      "source": [
        "#plotting result of differente number of principal components\n",
        "plt.plot(range(50,100,5),scores, 'r', )\n",
        "plt.xlabel(\"Number of components\")\n",
        "plt.ylabel(\"accuracy\")\n",
        "plt.show()"
      ],
      "metadata": {
        "id": "ZB-RC-_aFxNg",
        "colab": {
          "base_uri": "https://localhost:8080/",
          "height": 279
        },
        "outputId": "4548bd29-6de2-406d-b8cd-0d70f7067f53"
      },
      "execution_count": 164,
      "outputs": [
        {
          "output_type": "display_data",
          "data": {
            "text/plain": [
              "<Figure size 432x288 with 1 Axes>"
            ],
            "image/png": "[encoded data removed]"
          },
          "metadata": {
            "needs_background": "light"
          }
        }
      ]
    },
    {
      "cell_type": "code",
      "source": [
        "# best result\n",
        "n_components = n_com\n",
        "pca = RandomizedPCA(n_components=n_components, whiten=True).fit(X_train)\n",
        "X_train_pca = pca.transform(X_train)\n",
        "test_pca = pca.transform(X_test)\n",
        "svm = SVC(kernel='rbf' , class_weight='balanced' , C=best_estimator.C , gamma=best_estimator.gamma)\n",
        "svm.fit(X_train_pca , Y_train)\n",
        "print(\"best result on\",best_estimator )\n",
        "print(\"best features:\",n_components )\n",
        "print(\"score :\",svm.score(test_pca , Y_test_class))"
      ],
      "metadata": {
        "id": "t6cQZ4vsu4uj",
        "colab": {
          "base_uri": "https://localhost:8080/"
        },
        "outputId": "fd1d880b-44b5-490e-9989-ba166281251c"
      },
      "execution_count": 157,
      "outputs": [
        {
          "output_type": "stream",
          "name": "stdout",
          "text": [
            "best result on SVC(C=10051.137949154709, class_weight='balanced', gamma=0.010558368154723188)\n",
            "best features: 85\n",
            "score : 0.9962406015037594\n"
          ]
        }
      ]
    },
    {
      "cell_type": "code",
      "source": [
        "#precision    recall  f1-score   support\n",
        "print(\"Predicting the people names on the testing set\")\n",
        "y_pred = svm.predict(test_pca)\n",
        "print(classification_report(Y_test_class, y_pred))"
      ],
      "metadata": {
        "id": "BjmzP8PGZZzg",
        "colab": {
          "base_uri": "https://localhost:8080/"
        },
        "outputId": "41dd8117-046e-4a08-c81d-fb9995abe141"
      },
      "execution_count": 158,
      "outputs": [
        {
          "output_type": "stream",
          "name": "stdout",
          "text": [
            "Predicting the people names on the testing set\n",
            "              precision    recall  f1-score   support\n",
            "\n",
            "     yaleB01       1.00      0.93      0.96        14\n",
            "     yaleB02       1.00      1.00      1.00        14\n",
            "     yaleB03       1.00      1.00      1.00        14\n",
            "     yaleB04       1.00      1.00      1.00        14\n",
            "     yaleB05       1.00      1.00      1.00        14\n",
            "     yaleB06       1.00      1.00      1.00        14\n",
            "     yaleB07       1.00      1.00      1.00        14\n",
            "     yaleB08       1.00      1.00      1.00        14\n",
            "     yaleB09       1.00      1.00      1.00        14\n",
            "     yaleB10       1.00      1.00      1.00        14\n",
            "     yaleB11       0.93      1.00      0.97        14\n",
            "     yaleB12       1.00      1.00      1.00        14\n",
            "     yaleB13       1.00      1.00      1.00        14\n",
            "     yaleB15       1.00      1.00      1.00        14\n",
            "     yaleB16       1.00      1.00      1.00        14\n",
            "     yaleB17       1.00      1.00      1.00        14\n",
            "     yaleB18       1.00      1.00      1.00        14\n",
            "     yaleB19       1.00      1.00      1.00        14\n",
            "     yaleB20       1.00      1.00      1.00        14\n",
            "     yaleB21       1.00      1.00      1.00        14\n",
            "     yaleB22       1.00      1.00      1.00        14\n",
            "     yaleB23       1.00      1.00      1.00        14\n",
            "     yaleB24       1.00      1.00      1.00        14\n",
            "     yaleB25       1.00      1.00      1.00        14\n",
            "     yaleB26       1.00      1.00      1.00        14\n",
            "     yaleB27       1.00      1.00      1.00        14\n",
            "     yaleB28       1.00      1.00      1.00        14\n",
            "     yaleB29       1.00      0.93      0.96        14\n",
            "     yaleB30       1.00      1.00      1.00        14\n",
            "     yaleB31       1.00      1.00      1.00        14\n",
            "     yaleB32       1.00      1.00      1.00        14\n",
            "     yaleB33       1.00      1.00      1.00        14\n",
            "     yaleB34       1.00      1.00      1.00        14\n",
            "     yaleB35       1.00      1.00      1.00        14\n",
            "     yaleB36       0.93      1.00      0.97        14\n",
            "     yaleB37       1.00      1.00      1.00        14\n",
            "     yaleB38       1.00      1.00      1.00        14\n",
            "     yaleB39       1.00      1.00      1.00        14\n",
            "\n",
            "    accuracy                           1.00       532\n",
            "   macro avg       1.00      1.00      1.00       532\n",
            "weighted avg       1.00      1.00      1.00       532\n",
            "\n"
          ]
        }
      ]
    },
    {
      "cell_type": "code",
      "source": [
        "lst=(list(set(Y_test_class)))\n",
        "lst.sort()\n",
        "print(confusion_matrix(Y_test_class, y_pred,labels=lst))\n"
      ],
      "metadata": {
        "id": "B10Q05n20w57",
        "colab": {
          "base_uri": "https://localhost:8080/"
        },
        "outputId": "ccc9d145-101e-45fe-e00c-4b0a9d036c67"
      },
      "execution_count": 159,
      "outputs": [
        {
          "output_type": "stream",
          "name": "stdout",
          "text": [
            "[[13  0  0 ...  0  0  0]\n",
            " [ 0 14  0 ...  0  0  0]\n",
            " [ 0  0 14 ...  0  0  0]\n",
            " ...\n",
            " [ 0  0  0 ... 14  0  0]\n",
            " [ 0  0  0 ...  0 14  0]\n",
            " [ 0  0  0 ...  0  0 14]]\n"
          ]
        }
      ]
    },
    {
      "cell_type": "code",
      "source": [
        "#confusion_matrix\n",
        "import pandas as pd\n",
        "df=pd.DataFrame(confusion_matrix(Y_test_class, y_pred,labels=lst),columns=lst,index=lst)\n",
        "pd.set_option('display.max_rows', None)\n",
        "pd.set_option('display.max_columns', None)\n",
        "pd.set_option('display.width', None)\n",
        "pd.set_option('display.max_colwidth', -1)\n",
        "print(df)"
      ],
      "metadata": {
        "id": "JqyWv6jN-2-H",
        "colab": {
          "base_uri": "https://localhost:8080/"
        },
        "outputId": "35e2a3a3-367e-4f1f-8324-6e0e57101e79"
      },
      "execution_count": 160,
      "outputs": [
        {
          "output_type": "stream",
          "name": "stdout",
          "text": [
            "         yaleB01  yaleB02  yaleB03  yaleB04  yaleB05  yaleB06  yaleB07  \\\n",
            "yaleB01  13       0        0        0        0        0        0         \n",
            "yaleB02  0        14       0        0        0        0        0         \n",
            "yaleB03  0        0        14       0        0        0        0         \n",
            "yaleB04  0        0        0        14       0        0        0         \n",
            "yaleB05  0        0        0        0        14       0        0         \n",
            "yaleB06  0        0        0        0        0        14       0         \n",
            "yaleB07  0        0        0        0        0        0        14        \n",
            "yaleB08  0        0        0        0        0        0        0         \n",
            "yaleB09  0        0        0        0        0        0        0         \n",
            "yaleB10  0        0        0        0        0        0        0         \n",
            "yaleB11  0        0        0        0        0        0        0         \n",
            "yaleB12  0        0        0        0        0        0        0         \n",
            "yaleB13  0        0        0        0        0        0        0         \n",
            "yaleB15  0        0        0        0        0        0        0         \n",
            "yaleB16  0        0        0        0        0        0        0         \n",
            "yaleB17  0        0        0        0        0        0        0         \n",
            "yaleB18  0        0        0        0        0        0        0         \n",
            "yaleB19  0        0        0        0        0        0        0         \n",
            "yaleB20  0        0        0        0        0        0        0         \n",
            "yaleB21  0        0        0        0        0        0        0         \n",
            "yaleB22  0        0        0        0        0        0        0         \n",
            "yaleB23  0        0        0        0        0        0        0         \n",
            "yaleB24  0        0        0        0        0        0        0         \n",
            "yaleB25  0        0        0        0        0        0        0         \n",
            "yaleB26  0        0        0        0        0        0        0         \n",
            "yaleB27  0        0        0        0        0        0        0         \n",
            "yaleB28  0        0        0        0        0        0        0         \n",
            "yaleB29  0        0        0        0        0        0        0         \n",
            "yaleB30  0        0        0        0        0        0        0         \n",
            "yaleB31  0        0        0        0        0        0        0         \n",
            "yaleB32  0        0        0        0        0        0        0         \n",
            "yaleB33  0        0        0        0        0        0        0         \n",
            "yaleB34  0        0        0        0        0        0        0         \n",
            "yaleB35  0        0        0        0        0        0        0         \n",
            "yaleB36  0        0        0        0        0        0        0         \n",
            "yaleB37  0        0        0        0        0        0        0         \n",
            "yaleB38  0        0        0        0        0        0        0         \n",
            "yaleB39  0        0        0        0        0        0        0         \n",
            "\n",
            "         yaleB08  yaleB09  yaleB10  yaleB11  yaleB12  yaleB13  yaleB15  \\\n",
            "yaleB01  0        0        0        0        0        0        0         \n",
            "yaleB02  0        0        0        0        0        0        0         \n",
            "yaleB03  0        0        0        0        0        0        0         \n",
            "yaleB04  0        0        0        0        0        0        0         \n",
            "yaleB05  0        0        0        0        0        0        0         \n",
            "yaleB06  0        0        0        0        0        0        0         \n",
            "yaleB07  0        0        0        0        0        0        0         \n",
            "yaleB08  14       0        0        0        0        0        0         \n",
            "yaleB09  0        14       0        0        0        0        0         \n",
            "yaleB10  0        0        14       0        0        0        0         \n",
            "yaleB11  0        0        0        14       0        0        0         \n",
            "yaleB12  0        0        0        0        14       0        0         \n",
            "yaleB13  0        0        0        0        0        14       0         \n",
            "yaleB15  0        0        0        0        0        0        14        \n",
            "yaleB16  0        0        0        0        0        0        0         \n",
            "yaleB17  0        0        0        0        0        0        0         \n",
            "yaleB18  0        0        0        0        0        0        0         \n",
            "yaleB19  0        0        0        0        0        0        0         \n",
            "yaleB20  0        0        0        0        0        0        0         \n",
            "yaleB21  0        0        0        0        0        0        0         \n",
            "yaleB22  0        0        0        0        0        0        0         \n",
            "yaleB23  0        0        0        0        0        0        0         \n",
            "yaleB24  0        0        0        0        0        0        0         \n",
            "yaleB25  0        0        0        0        0        0        0         \n",
            "yaleB26  0        0        0        0        0        0        0         \n",
            "yaleB27  0        0        0        0        0        0        0         \n",
            "yaleB28  0        0        0        0        0        0        0         \n",
            "yaleB29  0        0        0        1        0        0        0         \n",
            "yaleB30  0        0        0        0        0        0        0         \n",
            "yaleB31  0        0        0        0        0        0        0         \n",
            "yaleB32  0        0        0        0        0        0        0         \n",
            "yaleB33  0        0        0        0        0        0        0         \n",
            "yaleB34  0        0        0        0        0        0        0         \n",
            "yaleB35  0        0        0        0        0        0        0         \n",
            "yaleB36  0        0        0        0        0        0        0         \n",
            "yaleB37  0        0        0        0        0        0        0         \n",
            "yaleB38  0        0        0        0        0        0        0         \n",
            "yaleB39  0        0        0        0        0        0        0         \n",
            "\n",
            "         yaleB16  yaleB17  yaleB18  yaleB19  yaleB20  yaleB21  yaleB22  \\\n",
            "yaleB01  0        0        0        0        0        0        0         \n",
            "yaleB02  0        0        0        0        0        0        0         \n",
            "yaleB03  0        0        0        0        0        0        0         \n",
            "yaleB04  0        0        0        0        0        0        0         \n",
            "yaleB05  0        0        0        0        0        0        0         \n",
            "yaleB06  0        0        0        0        0        0        0         \n",
            "yaleB07  0        0        0        0        0        0        0         \n",
            "yaleB08  0        0        0        0        0        0        0         \n",
            "yaleB09  0        0        0        0        0        0        0         \n",
            "yaleB10  0        0        0        0        0        0        0         \n",
            "yaleB11  0        0        0        0        0        0        0         \n",
            "yaleB12  0        0        0        0        0        0        0         \n",
            "yaleB13  0        0        0        0        0        0        0         \n",
            "yaleB15  0        0        0        0        0        0        0         \n",
            "yaleB16  14       0        0        0        0        0        0         \n",
            "yaleB17  0        14       0        0        0        0        0         \n",
            "yaleB18  0        0        14       0        0        0        0         \n",
            "yaleB19  0        0        0        14       0        0        0         \n",
            "yaleB20  0        0        0        0        14       0        0         \n",
            "yaleB21  0        0        0        0        0        14       0         \n",
            "yaleB22  0        0        0        0        0        0        14        \n",
            "yaleB23  0        0        0        0        0        0        0         \n",
            "yaleB24  0        0        0        0        0        0        0         \n",
            "yaleB25  0        0        0        0        0        0        0         \n",
            "yaleB26  0        0        0        0        0        0        0         \n",
            "yaleB27  0        0        0        0        0        0        0         \n",
            "yaleB28  0        0        0        0        0        0        0         \n",
            "yaleB29  0        0        0        0        0        0        0         \n",
            "yaleB30  0        0        0        0        0        0        0         \n",
            "yaleB31  0        0        0        0        0        0        0         \n",
            "yaleB32  0        0        0        0        0        0        0         \n",
            "yaleB33  0        0        0        0        0        0        0         \n",
            "yaleB34  0        0        0        0        0        0        0         \n",
            "yaleB35  0        0        0        0        0        0        0         \n",
            "yaleB36  0        0        0        0        0        0        0         \n",
            "yaleB37  0        0        0        0        0        0        0         \n",
            "yaleB38  0        0        0        0        0        0        0         \n",
            "yaleB39  0        0        0        0        0        0        0         \n",
            "\n",
            "         yaleB23  yaleB24  yaleB25  yaleB26  yaleB27  yaleB28  yaleB29  \\\n",
            "yaleB01  0        0        0        0        0        0        0         \n",
            "yaleB02  0        0        0        0        0        0        0         \n",
            "yaleB03  0        0        0        0        0        0        0         \n",
            "yaleB04  0        0        0        0        0        0        0         \n",
            "yaleB05  0        0        0        0        0        0        0         \n",
            "yaleB06  0        0        0        0        0        0        0         \n",
            "yaleB07  0        0        0        0        0        0        0         \n",
            "yaleB08  0        0        0        0        0        0        0         \n",
            "yaleB09  0        0        0        0        0        0        0         \n",
            "yaleB10  0        0        0        0        0        0        0         \n",
            "yaleB11  0        0        0        0        0        0        0         \n",
            "yaleB12  0        0        0        0        0        0        0         \n",
            "yaleB13  0        0        0        0        0        0        0         \n",
            "yaleB15  0        0        0        0        0        0        0         \n",
            "yaleB16  0        0        0        0        0        0        0         \n",
            "yaleB17  0        0        0        0        0        0        0         \n",
            "yaleB18  0        0        0        0        0        0        0         \n",
            "yaleB19  0        0        0        0        0        0        0         \n",
            "yaleB20  0        0        0        0        0        0        0         \n",
            "yaleB21  0        0        0        0        0        0        0         \n",
            "yaleB22  0        0        0        0        0        0        0         \n",
            "yaleB23  14       0        0        0        0        0        0         \n",
            "yaleB24  0        14       0        0        0        0        0         \n",
            "yaleB25  0        0        14       0        0        0        0         \n",
            "yaleB26  0        0        0        14       0        0        0         \n",
            "yaleB27  0        0        0        0        14       0        0         \n",
            "yaleB28  0        0        0        0        0        14       0         \n",
            "yaleB29  0        0        0        0        0        0        13        \n",
            "yaleB30  0        0        0        0        0        0        0         \n",
            "yaleB31  0        0        0        0        0        0        0         \n",
            "yaleB32  0        0        0        0        0        0        0         \n",
            "yaleB33  0        0        0        0        0        0        0         \n",
            "yaleB34  0        0        0        0        0        0        0         \n",
            "yaleB35  0        0        0        0        0        0        0         \n",
            "yaleB36  0        0        0        0        0        0        0         \n",
            "yaleB37  0        0        0        0        0        0        0         \n",
            "yaleB38  0        0        0        0        0        0        0         \n",
            "yaleB39  0        0        0        0        0        0        0         \n",
            "\n",
            "         yaleB30  yaleB31  yaleB32  yaleB33  yaleB34  yaleB35  yaleB36  \\\n",
            "yaleB01  0        0        0        0        0        0        1         \n",
            "yaleB02  0        0        0        0        0        0        0         \n",
            "yaleB03  0        0        0        0        0        0        0         \n",
            "yaleB04  0        0        0        0        0        0        0         \n",
            "yaleB05  0        0        0        0        0        0        0         \n",
            "yaleB06  0        0        0        0        0        0        0         \n",
            "yaleB07  0        0        0        0        0        0        0         \n",
            "yaleB08  0        0        0        0        0        0        0         \n",
            "yaleB09  0        0        0        0        0        0        0         \n",
            "yaleB10  0        0        0        0        0        0        0         \n",
            "yaleB11  0        0        0        0        0        0        0         \n",
            "yaleB12  0        0        0        0        0        0        0         \n",
            "yaleB13  0        0        0        0        0        0        0         \n",
            "yaleB15  0        0        0        0        0        0        0         \n",
            "yaleB16  0        0        0        0        0        0        0         \n",
            "yaleB17  0        0        0        0        0        0        0         \n",
            "yaleB18  0        0        0        0        0        0        0         \n",
            "yaleB19  0        0        0        0        0        0        0         \n",
            "yaleB20  0        0        0        0        0        0        0         \n",
            "yaleB21  0        0        0        0        0        0        0         \n",
            "yaleB22  0        0        0        0        0        0        0         \n",
            "yaleB23  0        0        0        0        0        0        0         \n",
            "yaleB24  0        0        0        0        0        0        0         \n",
            "yaleB25  0        0        0        0        0        0        0         \n",
            "yaleB26  0        0        0        0        0        0        0         \n",
            "yaleB27  0        0        0        0        0        0        0         \n",
            "yaleB28  0        0        0        0        0        0        0         \n",
            "yaleB29  0        0        0        0        0        0        0         \n",
            "yaleB30  14       0        0        0        0        0        0         \n",
            "yaleB31  0        14       0        0        0        0        0         \n",
            "yaleB32  0        0        14       0        0        0        0         \n",
            "yaleB33  0        0        0        14       0        0        0         \n",
            "yaleB34  0        0        0        0        14       0        0         \n",
            "yaleB35  0        0        0        0        0        14       0         \n",
            "yaleB36  0        0        0        0        0        0        14        \n",
            "yaleB37  0        0        0        0        0        0        0         \n",
            "yaleB38  0        0        0        0        0        0        0         \n",
            "yaleB39  0        0        0        0        0        0        0         \n",
            "\n",
            "         yaleB37  yaleB38  yaleB39  \n",
            "yaleB01  0        0        0        \n",
            "yaleB02  0        0        0        \n",
            "yaleB03  0        0        0        \n",
            "yaleB04  0        0        0        \n",
            "yaleB05  0        0        0        \n",
            "yaleB06  0        0        0        \n",
            "yaleB07  0        0        0        \n",
            "yaleB08  0        0        0        \n",
            "yaleB09  0        0        0        \n",
            "yaleB10  0        0        0        \n",
            "yaleB11  0        0        0        \n",
            "yaleB12  0        0        0        \n",
            "yaleB13  0        0        0        \n",
            "yaleB15  0        0        0        \n",
            "yaleB16  0        0        0        \n",
            "yaleB17  0        0        0        \n",
            "yaleB18  0        0        0        \n",
            "yaleB19  0        0        0        \n",
            "yaleB20  0        0        0        \n",
            "yaleB21  0        0        0        \n",
            "yaleB22  0        0        0        \n",
            "yaleB23  0        0        0        \n",
            "yaleB24  0        0        0        \n",
            "yaleB25  0        0        0        \n",
            "yaleB26  0        0        0        \n",
            "yaleB27  0        0        0        \n",
            "yaleB28  0        0        0        \n",
            "yaleB29  0        0        0        \n",
            "yaleB30  0        0        0        \n",
            "yaleB31  0        0        0        \n",
            "yaleB32  0        0        0        \n",
            "yaleB33  0        0        0        \n",
            "yaleB34  0        0        0        \n",
            "yaleB35  0        0        0        \n",
            "yaleB36  0        0        0        \n",
            "yaleB37  14       0        0        \n",
            "yaleB38  0        14       0        \n",
            "yaleB39  0        0        14       \n"
          ]
        },
        {
          "output_type": "stream",
          "name": "stderr",
          "text": [
            "/usr/local/lib/python3.7/dist-packages/ipykernel_launcher.py:7: FutureWarning: Passing a negative integer is deprecated in version 1.0 and will not be supported in future version. Instead, use None to not limit the column width.\n",
            "  import sys\n"
          ]
        }
      ]
    }
  ],
  "metadata": {
    "colab": {
      "name": "Untitled2.ipynb",
      "provenance": []
    },
    "gpuClass": "standard",
    "kernelspec": {
      "display_name": "Python 3",
      "name": "python3"
    },
    "language_info": {
      "name": "python"
    }
  },
  "nbformat": 4,
  "nbformat_minor": 0
}