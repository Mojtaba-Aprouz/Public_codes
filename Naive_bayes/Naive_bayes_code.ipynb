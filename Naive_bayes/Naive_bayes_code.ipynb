{
  "nbformat": 4,
  "nbformat_minor": 0,
  "metadata": {
    "colab": {
      "provenance": []
    },
    "kernelspec": {
      "name": "python3",
      "display_name": "Python 3"
    },
    "language_info": {
      "name": "python"
    }
  },
  "cells": [
    {
      "cell_type": "code",
      "source": [
        "# Libraries\n",
        "import numpy as np\n",
        "import pandas as pd\n",
        "from sklearn.model_selection import train_test_split\n",
        "from sklearn.metrics import confusion_matrix,classification_report\n",
        "from sklearn.naive_bayes import GaussianNB"
      ],
      "metadata": {
        "id": "FfTGwX8wm1LL"
      },
      "execution_count": 41,
      "outputs": []
    },
    {
      "cell_type": "code",
      "source": [
        "# Implemention of my Naive Bayes Classifier\n",
        "class NaiveBayes:\n",
        "\n",
        "    def fit(self, X, y):\n",
        "        n_samples, n_features = X.shape\n",
        "        self._classes = np.unique(y)\n",
        "        n_classes = len(self._classes)\n",
        "\n",
        "        # calculate mean, var, and prior for each class\n",
        "        self._mean = np.zeros((n_classes, n_features), dtype=np.float64)\n",
        "        self._var = np.zeros((n_classes, n_features), dtype=np.float64)\n",
        "        self._priors =  np.zeros(n_classes, dtype=np.float64)\n",
        "\n",
        "        for idx, c in enumerate(self._classes):\n",
        "            X_c = X[y==c]\n",
        "            self._mean[idx, :] = X_c.mean(axis=0)\n",
        "            self._var[idx, :] = X_c.var(axis=0)\n",
        "            self._priors[idx] = X_c.shape[0] / float(n_samples)\n",
        "\n",
        "    def predict(self, X):\n",
        "        y_pred = [self._predict(x) for x in X]\n",
        "        return np.array(y_pred)\n",
        "\n",
        "    def _predict(self, x):\n",
        "        posteriors = []\n",
        "\n",
        "        # calculate posterior probability for each class\n",
        "        for idx, c in enumerate(self._classes):\n",
        "            prior = np.log(self._priors[idx])\n",
        "            posterior = np.sum(np.log(self._pdf(idx, x)))\n",
        "            posterior = prior + posterior\n",
        "            posteriors.append(posterior)\n",
        "\n",
        "        # return class with highest posterior probability\n",
        "        return self._classes[np.argmax(posteriors)]\n",
        "\n",
        "\n",
        "    def _pdf(self, class_idx, x):\n",
        "        mean = self._mean[class_idx]\n",
        "        var = self._var[class_idx]\n",
        "        numerator = np.exp(- (x-mean)**2 / (2 * var))\n",
        "        denominator = np.sqrt(2 * np.pi * var)\n",
        "        return numerator / denominator"
      ],
      "metadata": {
        "id": "bQRkmxoxyTLu"
      },
      "execution_count": 42,
      "outputs": []
    },
    {
      "cell_type": "code",
      "source": [
        "# Reading Dataset file\n",
        "csvFile = pd.read_csv('/content/drive/MyDrive/Data/data.csv')\n",
        "\n",
        "# Extracing features and class labels\n",
        "data=csvFile.to_numpy()\n",
        "label=data[:,1]\n",
        "data=data[:,2:-1].astype(np.float32)\n",
        "\n",
        "# Splitting Dataset into Train and Test Sets. ratio = 70% & 30%\n",
        "train_x, test_x, train_y, test_y = train_test_split(data, label, test_size=0.3, random_state=0)\n",
        "print(\"Number of  train samples:\", len(train_x),\n",
        "      \"\\nNumber of test samples:\", len(test_x))"
      ],
      "metadata": {
        "colab": {
          "base_uri": "https://localhost:8080/"
        },
        "id": "xgpTDbZayg-3",
        "outputId": "66858009-f16f-455f-8f37-280b84cfa897"
      },
      "execution_count": 43,
      "outputs": [
        {
          "output_type": "stream",
          "name": "stdout",
          "text": [
            "Number of  train samples: 398 \n",
            "Number of test samples: 171\n"
          ]
        }
      ]
    },
    {
      "cell_type": "markdown",
      "source": [
        "قسمت **ب**"
      ],
      "metadata": {
        "id": "1iPAbz1PLlna"
      }
    },
    {
      "cell_type": "code",
      "source": [
        "# train our Naive Model\n",
        "Naive=NaiveBayes()\n",
        "Naive.fit(train_x , train_y)\n",
        "\n",
        "# Prediction\n",
        "y_pred = Naive.predict(test_x);\n",
        "\n",
        "# Confustion Matrix and Metrics\n",
        "conf_matrix = confusion_matrix(test_y, y_pred);\n",
        "classify_report=classification_report(test_y, y_pred);\n",
        "print(\"confusion_matrix:\\n\\n\",conf_matrix,\"\\n\\n\\n\",classify_report)"
      ],
      "metadata": {
        "colab": {
          "base_uri": "https://localhost:8080/"
        },
        "id": "4yYfkPYE7SIw",
        "outputId": "8c514328-58eb-413b-ba73-39908307a31f"
      },
      "execution_count": 44,
      "outputs": [
        {
          "output_type": "stream",
          "name": "stdout",
          "text": [
            "confusion_matrix:\n",
            "\n",
            " [[99  9]\n",
            " [ 6 57]] \n",
            "\n",
            "\n",
            "               precision    recall  f1-score   support\n",
            "\n",
            "           B       0.94      0.92      0.93       108\n",
            "           M       0.86      0.90      0.88        63\n",
            "\n",
            "    accuracy                           0.91       171\n",
            "   macro avg       0.90      0.91      0.91       171\n",
            "weighted avg       0.91      0.91      0.91       171\n",
            "\n"
          ]
        }
      ]
    },
    {
      "cell_type": "markdown",
      "source": [
        "قسمت **پ**"
      ],
      "metadata": {
        "id": "aPswlbkyLq2E"
      }
    },
    {
      "cell_type": "code",
      "source": [
        "# sklearn Naive Bayes\n",
        "gnb = GaussianNB()\n",
        "y_pred = gnb.fit(train_x, train_y).predict(test_x)\n",
        "\n",
        "# Confustion Matrix and Metrics\n",
        "conf_matrix = confusion_matrix(test_y, y_pred);\n",
        "classify_report=classification_report(test_y, y_pred);\n",
        "print(\"confusion_matrix:\\n\\n\",conf_matrix,\"\\n\\n\\n\",classify_report)"
      ],
      "metadata": {
        "colab": {
          "base_uri": "https://localhost:8080/"
        },
        "id": "D5kOqcZNSE5P",
        "outputId": "a403fa04-52fd-4a8a-e306-5031a7ea1714"
      },
      "execution_count": 45,
      "outputs": [
        {
          "output_type": "stream",
          "name": "stdout",
          "text": [
            "confusion_matrix:\n",
            "\n",
            " [[101   7]\n",
            " [  6  57]] \n",
            "\n",
            "\n",
            "               precision    recall  f1-score   support\n",
            "\n",
            "           B       0.94      0.94      0.94       108\n",
            "           M       0.89      0.90      0.90        63\n",
            "\n",
            "    accuracy                           0.92       171\n",
            "   macro avg       0.92      0.92      0.92       171\n",
            "weighted avg       0.92      0.92      0.92       171\n",
            "\n"
          ]
        }
      ]
    }
  ]
}