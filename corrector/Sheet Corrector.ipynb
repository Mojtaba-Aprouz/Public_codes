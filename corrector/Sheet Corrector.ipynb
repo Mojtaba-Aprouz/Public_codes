{
 "cells": [
  {
   "cell_type": "markdown",
   "metadata": {},
   "source": [
    "Mojtaba Aprouz - 40030594\n",
    "\n",
    "Final project of IMAGE PROCESSING\n",
    "\n",
    "Exam answer sheet corrector"
   ]
  },
  {
   "cell_type": "code",
   "execution_count": 81,
   "metadata": {},
   "outputs": [],
   "source": [
    "import numpy as np\n",
    "import cv2\n",
    "import matplotlib.pyplot as plt\n",
    "from skimage.measure import label\n",
    "from skimage.morphology import binary_erosion\n"
   ]
  },
  {
   "cell_type": "code",
   "execution_count": 79,
   "metadata": {},
   "outputs": [],
   "source": [
    "#dataset path\n",
    "file=\"dataset/\"\n",
    "file_correct=\"dataset/ansanswer.jpg\""
   ]
  },
  {
   "cell_type": "markdown",
   "metadata": {},
   "source": [
    "It is a simple way for grading these answers\n",
    "\n"
   ]
  },
  {
   "cell_type": "markdown",
   "metadata": {},
   "source": [
    "\n",
    "\n",
    "By subtracting the student's answers and the answer key, the differences of the answers are extracted.\n",
    "\n",
    "Half of the difference shows the number of incorrect answers.\n",
    "\n",
    "Finally, subtracting 20 (the total number of questions) from the incorrect ones determines each student's score."
   ]
  },
  {
   "cell_type": "code",
   "execution_count": 83,
   "metadata": {},
   "outputs": [
    {
     "name": "stdout",
     "output_type": "stream",
     "text": [
      "\n",
      "student : professor \n",
      "grade: 20.0\n",
      "\n",
      "student : 1 \n",
      "grade: 11.0\n",
      "\n",
      "student : 2 \n",
      "grade: 15.0\n",
      "\n",
      "student : 3 \n",
      "grade: 12.0\n",
      "\n",
      "student : 4 \n",
      "grade: 10.0\n",
      "\n",
      "student : 5 \n",
      "grade: 12.0\n",
      "\n",
      "student : 6 \n",
      "grade: 11.0\n",
      "\n",
      "student : 7 \n",
      "grade: 12.0\n",
      "\n",
      "student : 8 \n",
      "grade: 11.0\n",
      "\n",
      "student : 9 \n",
      "grade: 9.0\n",
      "\n",
      "student : 10 \n",
      "grade: 15.0\n"
     ]
    }
   ],
   "source": [
    "kernel= np.ones((7,7))\n",
    "correct=255-cv2.imread(file_correct,0)\n",
    "grades=[]\n",
    "\n",
    "corrected=correct-correct\n",
    "fin=binary_erosion(corrected,kernel)\n",
    "labeled=label(fin, background=0, connectivity=2)\n",
    "unique, counts = np.unique(labeled, return_counts=True)\n",
    "print(\"\\nstudent :\",'professor',\n",
    "    \"\\ngrade:\",20-max(unique)/2)\n",
    "\n",
    "\n",
    "for i in range(1,11):\n",
    "    path=file+str(i)+\".jpg\"\n",
    "    img=255-cv2.imread(path,0)\n",
    "    corrected=img-correct\n",
    "    fin=binary_erosion(corrected,kernel)\n",
    "    labeled=label(fin, background=0, connectivity=2)\n",
    "    unique, counts = np.unique(labeled, return_counts=True)\n",
    "    grade=20-max(unique)/2\n",
    "    grades.append(grade)\n",
    "    print(\"\\nstudent :\",i,\n",
    "        \"\\ngrade:\",grade)\n"
   ]
  },
  {
   "cell_type": "code",
   "execution_count": 92,
   "metadata": {},
   "outputs": [
    {
     "data": {
      "image/png": "[encoded data removed]",
      "text/plain": [
       "<Figure size 432x288 with 1 Axes>"
      ]
     },
     "metadata": {
      "needs_background": "light"
     },
     "output_type": "display_data"
    }
   ],
   "source": [
    "plt.plot( range(1,11),grades,)\n",
    "plt.title('grades of students')\n",
    "plt.xlabel('student')\n",
    "plt.ylabel('grade')\n",
    "plt.show()"
   ]
  }
 ],
 "metadata": {
  "interpreter": {
   "hash": "1baa965d5efe3ac65b79dfc60c0d706280b1da80fedb7760faf2759126c4f253"
  },
  "kernelspec": {
   "display_name": "Python 3.8.0 64-bit",
   "language": "python",
   "name": "python3"
  },
  "language_info": {
   "codemirror_mode": {
    "name": "ipython",
    "version": 3
   },
   "file_extension": ".py",
   "mimetype": "text/x-python",
   "name": "python",
   "nbconvert_exporter": "python",
   "pygments_lexer": "ipython3",
   "version": "3.8.0"
  },
  "orig_nbformat": 4
 },
 "nbformat": 4,
 "nbformat_minor": 2
}
