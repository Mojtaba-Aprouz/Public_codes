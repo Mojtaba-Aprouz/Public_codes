{
  "nbformat": 4,
  "nbformat_minor": 0,
  "metadata": {
    "colab": {
      "name": "foot process.ipynb",
      "provenance": []
    },
    "kernelspec": {
      "name": "python3",
      "display_name": "Python 3"
    },
    "language_info": {
      "name": "python"
    }
  },
  "cells": [
    {
      "cell_type": "markdown",
      "source": [
        "Mojtaba Aprouz \n",
        "\n",
        "IMAGE PROCESSING\n",
        "\n",
        "Diagnosis of FLAT FOOT disease"
      ],
      "metadata": {
        "id": "TCQYkvSPc3Ps"
      }
    },
    {
      "cell_type": "code",
      "execution_count": 1,
      "metadata": {
        "id": "XLAyJf01QIl9"
      },
      "outputs": [],
      "source": [
        "import numpy as np\n",
        "import cv2 \n",
        "import matplotlib.pyplot as plt\n",
        "from skimage.morphology import binary_closing\n",
        "from skimage.morphology import binary_opening"
      ]
    },
    {
      "cell_type": "code",
      "source": [
        "def preprocess(path):\n",
        "  \"\"\"\n",
        "  Input: Image path\n",
        "  Output: Preprocessed image\n",
        "  This function get path of image file \n",
        "  Load the image and the resize images to same size.  Threshold function from cv2 clearly separates feet and background \n",
        "  \"\"\"\n",
        "  image=cv2.imread(path,0)\n",
        "  image=cv2.resize(image, (400, 320),interpolation = cv2.INTER_AREA)\n",
        "  image=np.array(image)\n",
        "  #image=1-image\n",
        "  bin_img=cv2.threshold(image,70,255,cv2.THRESH_BINARY)[1]\n",
        "  kernel= np.ones((7,7))\n",
        "  fin_img= binary_opening(bin_img,kernel)\n",
        "  fin_img= binary_closing(fin_img,kernel)\n",
        "  img_u8 = fin_img.astype(np.uint8)\n",
        "  return img_u8\n"
      ],
      "metadata": {
        "id": "vD5P4ZMFT7rg"
      },
      "execution_count": 25,
      "outputs": []
    },
    {
      "cell_type": "code",
      "source": [
        "def rotate(image):\n",
        "  \"\"\"\n",
        "  Input: Image\n",
        "  Output: well rotated image , The lowest point of the foot\n",
        "  This finction rotate the foot image to put the sole of the foot on a straight line.\n",
        "  By rotating the image by 1 degree and comparing the left and right part of the image.\n",
        "  \"\"\"\n",
        "  center=(w/2,h/2)\n",
        "  for i in range(0,20):\n",
        "    angle = i\n",
        "    scale = 1\n",
        "\n",
        "    M = cv2.getRotationMatrix2D(center, angle, scale)\n",
        "    rotated = cv2.warpAffine(image, M, (w, h))\n",
        "    left=rotated.copy()\n",
        "    right=rotated.copy()\n",
        "    left[:,int(w/3):]=0\n",
        "    right[:,:int(2*w/3)]=0\n",
        "\n",
        "    wmin,Hmin,wm,hm=cv2.boundingRect(left)\n",
        "    wmin2,Hmin2,wm2,hm2=cv2.boundingRect(right)\n",
        "    lefti=Hmin+hm\n",
        "    righti=Hmin2+hm2\n",
        "    if (np.abs(lefti-righti))<=2:\n",
        "      break\n",
        "  return rotated,lefti"
      ],
      "metadata": {
        "id": "l-pqYKA0Mdte"
      },
      "execution_count": 26,
      "outputs": []
    },
    {
      "cell_type": "code",
      "source": [
        "\n",
        "def diagnosis(image,lowest_point):\n",
        "  \"\"\"\n",
        "  Input: Image , The lowest point of the foot\n",
        "  Output: Prints The result of flat foot diagnosis\n",
        "  This function detects FLAT FOOT by comparing the lowest point and the middle part of the sole of the foot\n",
        "  \"\"\"\n",
        "  flat=1\n",
        "  for i in range(int(w/3),int(2*w/3),10):\n",
        "    mid=image.copy()\n",
        "    mid[:,i+10:]=0\n",
        "    mid[:,:i]=0\n",
        "    wmin_mid,Hmin_mid,wm_mid,hm_mid=cv2.boundingRect(mid)\n",
        "    midi=Hmin_mid+hm_mid\n",
        "    if lowest_point-midi > 5:\n",
        "      print(\"### Flat foot disorder *WAS NOT* diagnosed ###\\n\\n\")\n",
        "      flat=0\n",
        "      break\n",
        "\n",
        "  if flat==1:\n",
        "    print(\"### FLAT foot disorder *WAS* diagnosed ###\\n\\n\")"
      ],
      "metadata": {
        "id": "h3P4fw3SO7ku"
      },
      "execution_count": 27,
      "outputs": []
    },
    {
      "cell_type": "code",
      "source": [
        "file=\"/content/sample_data/foot.jfif\"\n",
        "processed_img=preprocess(file)\n",
        "(h, w) = processed_img.shape[:2]\n",
        "rotated,left=rotate(processed_img)\n",
        "diagnosis(rotated,left)\n",
        "plt.imshow(rotated,cmap='gray');"
      ],
      "metadata": {
        "colab": {
          "base_uri": "https://localhost:8080/",
          "height": 321
        },
        "id": "7BjkLFE2ECIL",
        "outputId": "fc9aad98-5650-445c-b52f-7498f76e6500"
      },
      "execution_count": 23,
      "outputs": [
        {
          "output_type": "stream",
          "name": "stdout",
          "text": [
            "### Flat foot disorder *WAS NOT* diagnosed ###\n",
            "\n",
            "\n"
          ]
        },
        {
          "output_type": "display_data",
          "data": {
            "text/plain": [
              "<Figure size 432x288 with 1 Axes>"
            ],
            "image/png": "[encoded data removed]"
          },
          "metadata": {
            "needs_background": "light"
          }
        }
      ]
    },
    {
      "cell_type": "code",
      "source": [
        "file=\"/content/sample_data/PiedPlatDiscover.webp\"\n",
        "processed_img=preprocess(file)\n",
        "(h, w) = processed_img.shape[:2]\n",
        "rotated,left=rotate(processed_img)\n",
        "diagnosis(rotated,left)\n",
        "plt.imshow(rotated,cmap='gray');"
      ],
      "metadata": {
        "colab": {
          "base_uri": "https://localhost:8080/",
          "height": 321
        },
        "id": "0KvUoalHAIHo",
        "outputId": "91ff2c1d-6b79-4dda-b20b-3ca4c578ad3a"
      },
      "execution_count": null,
      "outputs": [
        {
          "output_type": "stream",
          "name": "stdout",
          "text": [
            "### FLAT foot disorder *WAS* recogonized ###\n",
            "\n",
            "\n"
          ]
        },
        {
          "output_type": "display_data",
          "data": {
            "text/plain": [
              "<Figure size 432x288 with 1 Axes>"
            ],
            "image/png": "[encoded data removed]"
          },
          "metadata": {
            "needs_background": "light"
          }
        }
      ]
    },
    {
      "cell_type": "code",
      "source": [
        "file=\"/content/sample_data/Side_of_foot.jfif\"\n",
        "processed_img=preprocess(file)\n",
        "(h, w) = processed_img.shape[:2]\n",
        "rotated,left=rotate(processed_img)\n",
        "diagnosis(rotated,left)\n",
        "plt.imshow(rotated,cmap='gray');"
      ],
      "metadata": {
        "colab": {
          "base_uri": "https://localhost:8080/",
          "height": 321
        },
        "id": "Hwch984aBkOY",
        "outputId": "46e1add5-94c4-4a58-a29c-2c39c9a1c745"
      },
      "execution_count": null,
      "outputs": [
        {
          "output_type": "stream",
          "name": "stdout",
          "text": [
            "### Flat foot disorder *WAS NOT* diagnosed ###\n",
            "\n",
            "\n"
          ]
        },
        {
          "output_type": "display_data",
          "data": {
            "text/plain": [
              "<Figure size 432x288 with 1 Axes>"
            ],
            "image/png": "[encoded data removed]"
          },
          "metadata": {
            "needs_background": "light"
          }
        }
      ]
    }
  ]
}
