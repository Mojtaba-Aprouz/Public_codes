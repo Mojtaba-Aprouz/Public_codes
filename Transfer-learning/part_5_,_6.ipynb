{
  "cells": [
    {
      "cell_type": "markdown",
      "source": [
        "Assignment #2 neural network\n",
        "mojtaba aprouz - 40030594"
      ],
      "metadata": {
        "id": "cGp-rTmJvMgj"
      }
    },
    {
      "cell_type": "code",
      "source": [
        "from google.colab import drive\n",
        "drive.mount('/content/drive')"
      ],
      "metadata": {
        "id": "0oyw5KXtQ9vB",
        "colab": {
          "base_uri": "https://localhost:8080/"
        },
        "outputId": "4b9a113b-2035-42ad-b791-146fe71ad4f6"
      },
      "execution_count": 3,
      "outputs": [
        {
          "output_type": "stream",
          "name": "stdout",
          "text": [
            "Drive already mounted at /content/drive; to attempt to forcibly remount, call drive.mount(\"/content/drive\", force_remount=True).\n"
          ]
        }
      ]
    },
    {
      "cell_type": "code",
      "source": [
        "#@title dataset\n",
        "!unzip //content/drive/MyDrive/Colab_Notebooks/Butterfly_images.zip"
      ],
      "metadata": {
        "id": "7RhN_CM4Qv3d",
        "colab": {
          "base_uri": "https://localhost:8080/"
        },
        "outputId": "cf9700be-a76b-417d-d647-91614feecf3a"
      },
      "execution_count": 10,
      "outputs": [
        {
          "output_type": "stream",
          "name": "stdout",
          "text": [
            "Archive:  //content/drive/MyDrive/Colab_Notebooks/Butterfly_images.zip\n",
            "  inflating: Butterfly_images/family.txt  \n",
            "  inflating: Butterfly_images/genus.txt  \n",
            "  inflating: Butterfly_images/hierarchy.mat  \n",
            " extracting: Butterfly_images/images_small.zip  \n",
            "  inflating: Butterfly_images/species.txt  \n",
            "  inflating: Butterfly_images/subfamily.txt  \n"
          ]
        }
      ]
    },
    {
      "cell_type": "code",
      "source": [
        "#@title dataset\n",
        "!unzip /content/Butterfly_images/images_small.zip"
      ],
      "metadata": {
        "id": "43gNz6RKX9bX"
      },
      "execution_count": null,
      "outputs": []
    },
    {
      "cell_type": "code",
      "source": [
        "import splitfolders\n",
        "splitfolders.ratio(\"/content/images_small/images_small/images_small\",output=\"ds\",seed=1337,ratio=(0.8,0.1,0.1), group_prefix=None, move=False)"
      ],
      "metadata": {
        "id": "muEUMjIaQr6M",
        "colab": {
          "base_uri": "https://localhost:8080/"
        },
        "outputId": "ef5c2b3c-f831-4f95-94b1-aea049c5f3d8"
      },
      "execution_count": 14,
      "outputs": [
        {
          "output_type": "stream",
          "name": "stderr",
          "text": [
            "Copying files: 5652 files [00:00, 5814.52 files/s]\n"
          ]
        }
      ]
    },
    {
      "cell_type": "code",
      "execution_count": 40,
      "metadata": {
        "id": "dHCYzSjHQauG"
      },
      "outputs": [],
      "source": [
        "import os\n",
        "import numpy as np\n",
        "import cv2\n",
        "from tensorflow import keras\n",
        "import pandas as pd\n",
        "from keras.preprocessing.image import ImageDataGenerator\n",
        "from keras.applications.mobilenet import MobileNet\n",
        "from  matplotlib import pyplot as plt\n"
      ]
    },
    {
      "cell_type": "code",
      "execution_count": 41,
      "metadata": {
        "id": "R0ARIVlkQauM"
      },
      "outputs": [],
      "source": [
        "def loss_plot(network):\n",
        "    dict = network.history\n",
        "    loss_values = dict['loss']\n",
        "    val_loss_values = dict['val_loss']\n",
        "    epochs = range(1, len(loss_values) + 1)\n",
        "    plt.plot(epochs, loss_values, 'bo', label='Training')\n",
        "    plt.plot(epochs, val_loss_values,'r', label='Validation')\n",
        "    plt.title('Training and validation loss')\n",
        "    plt.xlabel('Epochs')\n",
        "    plt.ylabel('Loss')\n",
        "    plt.legend()\n",
        "    plt.show()"
      ]
    },
    {
      "cell_type": "code",
      "execution_count": 42,
      "metadata": {
        "id": "5qbyqZq0QauN"
      },
      "outputs": [],
      "source": [
        "def acc_plot(network):\n",
        "    plt.clf()\n",
        "    dict = network.history\n",
        "    acc_values = dict['accuracy']\n",
        "    val_acc_values = dict['val_accuracy']\n",
        "    epochs = range(1, len(acc_values) + 1)\n",
        "    plt.plot(epochs, acc_values, 'bo', label='Training')\n",
        "    plt.plot(epochs, val_acc_values, 'r', label='Validation')\n",
        "    plt.title('Training and validation accuracy')\n",
        "    plt.xlabel('Epochs')\n",
        "    plt.ylabel('accuracy')\n",
        "    plt.legend()\n",
        "    plt.show()"
      ]
    },
    {
      "cell_type": "code",
      "execution_count": 43,
      "metadata": {
        "id": "dpBtMQ6sQauQ"
      },
      "outputs": [],
      "source": [
        "base_dir, _ = os.path.splitext('/content/ds')\n",
        "\n",
        "train_dir = os.path.join(base_dir, 'train')\n",
        "test_dir = os.path.join(base_dir, 'test')\n",
        "val_dir = os.path.join(base_dir, 'val')\n",
        "batch_size=20\n",
        "image_size = 224\n"
      ]
    },
    {
      "cell_type": "code",
      "execution_count": 44,
      "metadata": {
        "id": "ySlG37uUQauR",
        "outputId": "29676567-a613-4ea1-e701-67d2d3661b04",
        "colab": {
          "base_uri": "https://localhost:8080/"
        }
      },
      "outputs": [
        {
          "output_type": "stream",
          "name": "stdout",
          "text": [
            "Found 4500 images belonging to 50 classes.\n",
            "Found 540 images belonging to 50 classes.\n",
            "Found 612 images belonging to 50 classes.\n"
          ]
        }
      ],
      "source": [
        "tr_datagen= ImageDataGenerator(rescale=1./255,\n",
        "                               rotation_range=40,\n",
        "                               width_shift_range=0.2,\n",
        "                               height_shift_range=0.2,\n",
        "                               shear_range=0.2,\n",
        "                               zoom_range=0.2,\n",
        "                               horizontal_flip=True,\n",
        "                               fill_mode='nearest'\n",
        "                               )\n",
        "te_datagen= ImageDataGenerator(rescale=1./255)\n",
        "vl_datagen= ImageDataGenerator(rescale=1./255)\n",
        "\n",
        "train_gen=tr_datagen.flow_from_directory(\n",
        "    train_dir,\n",
        "    target_size=(image_size,image_size),\n",
        "    batch_size= batch_size,\n",
        "    class_mode='categorical'\n",
        ")\n",
        "val_gen=vl_datagen.flow_from_directory(\n",
        "    val_dir,\n",
        "    target_size=(image_size,image_size),\n",
        "    batch_size= batch_size,\n",
        "    class_mode='categorical'\n",
        ")\n",
        "test_gen=te_datagen.flow_from_directory(\n",
        "    test_dir,\n",
        "    target_size=(image_size,image_size),\n",
        "    batch_size= batch_size,\n",
        "    class_mode='categorical'\n",
        ")"
      ]
    },
    {
      "cell_type": "code",
      "execution_count": 45,
      "metadata": {
        "id": "a6ysC50OQauU"
      },
      "outputs": [],
      "source": [
        "conv_base = MobileNet(weights='imagenet',\n",
        "include_top=False,\n",
        "input_shape=(224, 224, 3))\n",
        "conv_base.trainable = False\n"
      ]
    },
    {
      "cell_type": "code",
      "execution_count": 46,
      "metadata": {
        "id": "abC9J4pSQauV",
        "outputId": "71a708a0-7cc3-436b-98a9-714c9561a96b",
        "colab": {
          "base_uri": "https://localhost:8080/"
        }
      },
      "outputs": [
        {
          "output_type": "stream",
          "name": "stdout",
          "text": [
            "Model: \"mobilenet_1.00_224\"\n",
            "_________________________________________________________________\n",
            " Layer (type)                Output Shape              Param #   \n",
            "=================================================================\n",
            " input_2 (InputLayer)        [(None, 224, 224, 3)]     0         \n",
            "                                                                 \n",
            " conv1 (Conv2D)              (None, 112, 112, 32)      864       \n",
            "                                                                 \n",
            " conv1_bn (BatchNormalizatio  (None, 112, 112, 32)     128       \n",
            " n)                                                              \n",
            "                                                                 \n",
            " conv1_relu (ReLU)           (None, 112, 112, 32)      0         \n",
            "                                                                 \n",
            " conv_dw_1 (DepthwiseConv2D)  (None, 112, 112, 32)     288       \n",
            "                                                                 \n",
            " conv_dw_1_bn (BatchNormaliz  (None, 112, 112, 32)     128       \n",
            " ation)                                                          \n",
            "                                                                 \n",
            " conv_dw_1_relu (ReLU)       (None, 112, 112, 32)      0         \n",
            "                                                                 \n",
            " conv_pw_1 (Conv2D)          (None, 112, 112, 64)      2048      \n",
            "                                                                 \n",
            " conv_pw_1_bn (BatchNormaliz  (None, 112, 112, 64)     256       \n",
            " ation)                                                          \n",
            "                                                                 \n",
            " conv_pw_1_relu (ReLU)       (None, 112, 112, 64)      0         \n",
            "                                                                 \n",
            " conv_pad_2 (ZeroPadding2D)  (None, 113, 113, 64)      0         \n",
            "                                                                 \n",
            " conv_dw_2 (DepthwiseConv2D)  (None, 56, 56, 64)       576       \n",
            "                                                                 \n",
            " conv_dw_2_bn (BatchNormaliz  (None, 56, 56, 64)       256       \n",
            " ation)                                                          \n",
            "                                                                 \n",
            " conv_dw_2_relu (ReLU)       (None, 56, 56, 64)        0         \n",
            "                                                                 \n",
            " conv_pw_2 (Conv2D)          (None, 56, 56, 128)       8192      \n",
            "                                                                 \n",
            " conv_pw_2_bn (BatchNormaliz  (None, 56, 56, 128)      512       \n",
            " ation)                                                          \n",
            "                                                                 \n",
            " conv_pw_2_relu (ReLU)       (None, 56, 56, 128)       0         \n",
            "                                                                 \n",
            " conv_dw_3 (DepthwiseConv2D)  (None, 56, 56, 128)      1152      \n",
            "                                                                 \n",
            " conv_dw_3_bn (BatchNormaliz  (None, 56, 56, 128)      512       \n",
            " ation)                                                          \n",
            "                                                                 \n",
            " conv_dw_3_relu (ReLU)       (None, 56, 56, 128)       0         \n",
            "                                                                 \n",
            " conv_pw_3 (Conv2D)          (None, 56, 56, 128)       16384     \n",
            "                                                                 \n",
            " conv_pw_3_bn (BatchNormaliz  (None, 56, 56, 128)      512       \n",
            " ation)                                                          \n",
            "                                                                 \n",
            " conv_pw_3_relu (ReLU)       (None, 56, 56, 128)       0         \n",
            "                                                                 \n",
            " conv_pad_4 (ZeroPadding2D)  (None, 57, 57, 128)       0         \n",
            "                                                                 \n",
            " conv_dw_4 (DepthwiseConv2D)  (None, 28, 28, 128)      1152      \n",
            "                                                                 \n",
            " conv_dw_4_bn (BatchNormaliz  (None, 28, 28, 128)      512       \n",
            " ation)                                                          \n",
            "                                                                 \n",
            " conv_dw_4_relu (ReLU)       (None, 28, 28, 128)       0         \n",
            "                                                                 \n",
            " conv_pw_4 (Conv2D)          (None, 28, 28, 256)       32768     \n",
            "                                                                 \n",
            " conv_pw_4_bn (BatchNormaliz  (None, 28, 28, 256)      1024      \n",
            " ation)                                                          \n",
            "                                                                 \n",
            " conv_pw_4_relu (ReLU)       (None, 28, 28, 256)       0         \n",
            "                                                                 \n",
            " conv_dw_5 (DepthwiseConv2D)  (None, 28, 28, 256)      2304      \n",
            "                                                                 \n",
            " conv_dw_5_bn (BatchNormaliz  (None, 28, 28, 256)      1024      \n",
            " ation)                                                          \n",
            "                                                                 \n",
            " conv_dw_5_relu (ReLU)       (None, 28, 28, 256)       0         \n",
            "                                                                 \n",
            " conv_pw_5 (Conv2D)          (None, 28, 28, 256)       65536     \n",
            "                                                                 \n",
            " conv_pw_5_bn (BatchNormaliz  (None, 28, 28, 256)      1024      \n",
            " ation)                                                          \n",
            "                                                                 \n",
            " conv_pw_5_relu (ReLU)       (None, 28, 28, 256)       0         \n",
            "                                                                 \n",
            " conv_pad_6 (ZeroPadding2D)  (None, 29, 29, 256)       0         \n",
            "                                                                 \n",
            " conv_dw_6 (DepthwiseConv2D)  (None, 14, 14, 256)      2304      \n",
            "                                                                 \n",
            " conv_dw_6_bn (BatchNormaliz  (None, 14, 14, 256)      1024      \n",
            " ation)                                                          \n",
            "                                                                 \n",
            " conv_dw_6_relu (ReLU)       (None, 14, 14, 256)       0         \n",
            "                                                                 \n",
            " conv_pw_6 (Conv2D)          (None, 14, 14, 512)       131072    \n",
            "                                                                 \n",
            " conv_pw_6_bn (BatchNormaliz  (None, 14, 14, 512)      2048      \n",
            " ation)                                                          \n",
            "                                                                 \n",
            " conv_pw_6_relu (ReLU)       (None, 14, 14, 512)       0         \n",
            "                                                                 \n",
            " conv_dw_7 (DepthwiseConv2D)  (None, 14, 14, 512)      4608      \n",
            "                                                                 \n",
            " conv_dw_7_bn (BatchNormaliz  (None, 14, 14, 512)      2048      \n",
            " ation)                                                          \n",
            "                                                                 \n",
            " conv_dw_7_relu (ReLU)       (None, 14, 14, 512)       0         \n",
            "                                                                 \n",
            " conv_pw_7 (Conv2D)          (None, 14, 14, 512)       262144    \n",
            "                                                                 \n",
            " conv_pw_7_bn (BatchNormaliz  (None, 14, 14, 512)      2048      \n",
            " ation)                                                          \n",
            "                                                                 \n",
            " conv_pw_7_relu (ReLU)       (None, 14, 14, 512)       0         \n",
            "                                                                 \n",
            " conv_dw_8 (DepthwiseConv2D)  (None, 14, 14, 512)      4608      \n",
            "                                                                 \n",
            " conv_dw_8_bn (BatchNormaliz  (None, 14, 14, 512)      2048      \n",
            " ation)                                                          \n",
            "                                                                 \n",
            " conv_dw_8_relu (ReLU)       (None, 14, 14, 512)       0         \n",
            "                                                                 \n",
            " conv_pw_8 (Conv2D)          (None, 14, 14, 512)       262144    \n",
            "                                                                 \n",
            " conv_pw_8_bn (BatchNormaliz  (None, 14, 14, 512)      2048      \n",
            " ation)                                                          \n",
            "                                                                 \n",
            " conv_pw_8_relu (ReLU)       (None, 14, 14, 512)       0         \n",
            "                                                                 \n",
            " conv_dw_9 (DepthwiseConv2D)  (None, 14, 14, 512)      4608      \n",
            "                                                                 \n",
            " conv_dw_9_bn (BatchNormaliz  (None, 14, 14, 512)      2048      \n",
            " ation)                                                          \n",
            "                                                                 \n",
            " conv_dw_9_relu (ReLU)       (None, 14, 14, 512)       0         \n",
            "                                                                 \n",
            " conv_pw_9 (Conv2D)          (None, 14, 14, 512)       262144    \n",
            "                                                                 \n",
            " conv_pw_9_bn (BatchNormaliz  (None, 14, 14, 512)      2048      \n",
            " ation)                                                          \n",
            "                                                                 \n",
            " conv_pw_9_relu (ReLU)       (None, 14, 14, 512)       0         \n",
            "                                                                 \n",
            " conv_dw_10 (DepthwiseConv2D  (None, 14, 14, 512)      4608      \n",
            " )                                                               \n",
            "                                                                 \n",
            " conv_dw_10_bn (BatchNormali  (None, 14, 14, 512)      2048      \n",
            " zation)                                                         \n",
            "                                                                 \n",
            " conv_dw_10_relu (ReLU)      (None, 14, 14, 512)       0         \n",
            "                                                                 \n",
            " conv_pw_10 (Conv2D)         (None, 14, 14, 512)       262144    \n",
            "                                                                 \n",
            " conv_pw_10_bn (BatchNormali  (None, 14, 14, 512)      2048      \n",
            " zation)                                                         \n",
            "                                                                 \n",
            " conv_pw_10_relu (ReLU)      (None, 14, 14, 512)       0         \n",
            "                                                                 \n",
            " conv_dw_11 (DepthwiseConv2D  (None, 14, 14, 512)      4608      \n",
            " )                                                               \n",
            "                                                                 \n",
            " conv_dw_11_bn (BatchNormali  (None, 14, 14, 512)      2048      \n",
            " zation)                                                         \n",
            "                                                                 \n",
            " conv_dw_11_relu (ReLU)      (None, 14, 14, 512)       0         \n",
            "                                                                 \n",
            " conv_pw_11 (Conv2D)         (None, 14, 14, 512)       262144    \n",
            "                                                                 \n",
            " conv_pw_11_bn (BatchNormali  (None, 14, 14, 512)      2048      \n",
            " zation)                                                         \n",
            "                                                                 \n",
            " conv_pw_11_relu (ReLU)      (None, 14, 14, 512)       0         \n",
            "                                                                 \n",
            " conv_pad_12 (ZeroPadding2D)  (None, 15, 15, 512)      0         \n",
            "                                                                 \n",
            " conv_dw_12 (DepthwiseConv2D  (None, 7, 7, 512)        4608      \n",
            " )                                                               \n",
            "                                                                 \n",
            " conv_dw_12_bn (BatchNormali  (None, 7, 7, 512)        2048      \n",
            " zation)                                                         \n",
            "                                                                 \n",
            " conv_dw_12_relu (ReLU)      (None, 7, 7, 512)         0         \n",
            "                                                                 \n",
            " conv_pw_12 (Conv2D)         (None, 7, 7, 1024)        524288    \n",
            "                                                                 \n",
            " conv_pw_12_bn (BatchNormali  (None, 7, 7, 1024)       4096      \n",
            " zation)                                                         \n",
            "                                                                 \n",
            " conv_pw_12_relu (ReLU)      (None, 7, 7, 1024)        0         \n",
            "                                                                 \n",
            " conv_dw_13 (DepthwiseConv2D  (None, 7, 7, 1024)       9216      \n",
            " )                                                               \n",
            "                                                                 \n",
            " conv_dw_13_bn (BatchNormali  (None, 7, 7, 1024)       4096      \n",
            " zation)                                                         \n",
            "                                                                 \n",
            " conv_dw_13_relu (ReLU)      (None, 7, 7, 1024)        0         \n",
            "                                                                 \n",
            " conv_pw_13 (Conv2D)         (None, 7, 7, 1024)        1048576   \n",
            "                                                                 \n",
            " conv_pw_13_bn (BatchNormali  (None, 7, 7, 1024)       4096      \n",
            " zation)                                                         \n",
            "                                                                 \n",
            " conv_pw_13_relu (ReLU)      (None, 7, 7, 1024)        0         \n",
            "                                                                 \n",
            "=================================================================\n",
            "Total params: 3,228,864\n",
            "Trainable params: 0\n",
            "Non-trainable params: 3,228,864\n",
            "_________________________________________________________________\n"
          ]
        }
      ],
      "source": [
        "conv_base.summary()"
      ]
    },
    {
      "cell_type": "code",
      "execution_count": 46,
      "metadata": {
        "id": "EE41rABJQauW"
      },
      "outputs": [],
      "source": [
        ""
      ]
    },
    {
      "cell_type": "markdown",
      "source": [
        "Freeze base net and train added dense layers"
      ],
      "metadata": {
        "id": "lcesvR_cu5_x"
      }
    },
    {
      "cell_type": "code",
      "execution_count": 53,
      "metadata": {
        "id": "0a-R3iNIQauX"
      },
      "outputs": [],
      "source": [
        "model=keras.models.Sequential()\n",
        "model.add(conv_base)\n",
        "model.add(keras.layers.Flatten())\n",
        "model.add(keras.layers.Dense(1024,activation='ReLU'))\n",
        "model.add(keras.layers.Dropout(0.5))\n",
        "model.add(keras.layers.Dense(50,activation='softmax'))"
      ]
    },
    {
      "cell_type": "code",
      "execution_count": 54,
      "metadata": {
        "id": "QElddzufQauX",
        "outputId": "0cc11b41-3438-4a22-b234-543d181f9db1",
        "colab": {
          "base_uri": "https://localhost:8080/"
        }
      },
      "outputs": [
        {
          "output_type": "stream",
          "name": "stdout",
          "text": [
            "Model: \"sequential_3\"\n",
            "_________________________________________________________________\n",
            " Layer (type)                Output Shape              Param #   \n",
            "=================================================================\n",
            " mobilenet_1.00_224 (Functio  (None, 7, 7, 1024)       3228864   \n",
            " nal)                                                            \n",
            "                                                                 \n",
            " flatten_3 (Flatten)         (None, 50176)             0         \n",
            "                                                                 \n",
            " dense_6 (Dense)             (None, 1024)              51381248  \n",
            "                                                                 \n",
            " dropout_3 (Dropout)         (None, 1024)              0         \n",
            "                                                                 \n",
            " dense_7 (Dense)             (None, 50)                51250     \n",
            "                                                                 \n",
            "=================================================================\n",
            "Total params: 54,661,362\n",
            "Trainable params: 51,432,498\n",
            "Non-trainable params: 3,228,864\n",
            "_________________________________________________________________\n"
          ]
        }
      ],
      "source": [
        "model.summary()"
      ]
    },
    {
      "cell_type": "code",
      "source": [
        ""
      ],
      "metadata": {
        "id": "mPDE0rljP4eW"
      },
      "execution_count": 54,
      "outputs": []
    },
    {
      "cell_type": "code",
      "execution_count": 55,
      "metadata": {
        "id": "w9QwDW4dQauY"
      },
      "outputs": [],
      "source": [
        "model.compile(optimizer=keras.optimizers.RMSprop(learning_rate=2e-5),loss='categorical_crossentropy',metrics=['accuracy'])"
      ]
    },
    {
      "cell_type": "code",
      "execution_count": 57,
      "metadata": {
        "id": "FVhtnW1EQauY",
        "outputId": "3958c829-16cd-477a-c9dc-6365de6380cb",
        "colab": {
          "base_uri": "https://localhost:8080/"
        }
      },
      "outputs": [
        {
          "output_type": "stream",
          "name": "stderr",
          "text": [
            "/usr/local/lib/python3.7/dist-packages/ipykernel_launcher.py:12: UserWarning: `Model.fit_generator` is deprecated and will be removed in a future version. Please use `Model.fit`, which supports generators.\n",
            "  if sys.path[0] == '':\n"
          ]
        },
        {
          "output_type": "stream",
          "name": "stdout",
          "text": [
            "Epoch 1/10\n",
            "225/225 [==============================] - 67s 293ms/step - loss: 3.8525 - accuracy: 0.1880 - val_loss: 2.0728 - val_accuracy: 0.4481\n",
            "Epoch 2/10\n",
            "225/225 [==============================] - 67s 299ms/step - loss: 2.5399 - accuracy: 0.3587 - val_loss: 1.5477 - val_accuracy: 0.5259\n",
            "Epoch 3/10\n",
            "225/225 [==============================] - 66s 294ms/step - loss: 2.1128 - accuracy: 0.4420 - val_loss: 1.2390 - val_accuracy: 0.6111\n",
            "Epoch 4/10\n",
            "225/225 [==============================] - 65s 287ms/step - loss: 1.8673 - accuracy: 0.5022 - val_loss: 1.1382 - val_accuracy: 0.6667\n",
            "Epoch 5/10\n",
            "225/225 [==============================] - 66s 295ms/step - loss: 1.6843 - accuracy: 0.5524 - val_loss: 1.0591 - val_accuracy: 0.6778\n",
            "Epoch 6/10\n",
            "225/225 [==============================] - 65s 288ms/step - loss: 1.5064 - accuracy: 0.5833 - val_loss: 1.0039 - val_accuracy: 0.6889\n",
            "Epoch 7/10\n",
            "225/225 [==============================] - 66s 294ms/step - loss: 1.4381 - accuracy: 0.6022 - val_loss: 0.9507 - val_accuracy: 0.7111\n",
            "Epoch 8/10\n",
            "225/225 [==============================] - 65s 288ms/step - loss: 1.3153 - accuracy: 0.6407 - val_loss: 0.8685 - val_accuracy: 0.7278\n",
            "Epoch 9/10\n",
            "225/225 [==============================] - 66s 293ms/step - loss: 1.2792 - accuracy: 0.6447 - val_loss: 0.8960 - val_accuracy: 0.7148\n",
            "Epoch 10/10\n",
            "225/225 [==============================] - 74s 330ms/step - loss: 1.1408 - accuracy: 0.6824 - val_loss: 0.9500 - val_accuracy: 0.7241\n"
          ]
        }
      ],
      "source": [
        "history = model.fit_generator(train_gen,\n",
        " epochs=10,\n",
        " steps_per_epoch=len(train_gen),\n",
        " validation_data=(val_gen))"
      ]
    },
    {
      "cell_type": "code",
      "execution_count": 58,
      "metadata": {
        "id": "0w6Nrd6mQauZ",
        "outputId": "220abd05-54f5-499d-91c6-b1b7376f33e6",
        "colab": {
          "base_uri": "https://localhost:8080/",
          "height": 295
        }
      },
      "outputs": [
        {
          "output_type": "display_data",
          "data": {
            "text/plain": [
              "<Figure size 432x288 with 1 Axes>"
            ],
            "image/png": "[encoded data removed]"
          },
          "metadata": {
            "needs_background": "light"
          }
        }
      ],
      "source": [
        "loss_plot(history)"
      ]
    },
    {
      "cell_type": "code",
      "execution_count": 59,
      "metadata": {
        "id": "DcpkX7GzQauZ",
        "outputId": "9e75df49-3120-4cea-96c4-ef394c7c26a0",
        "colab": {
          "base_uri": "https://localhost:8080/",
          "height": 295
        }
      },
      "outputs": [
        {
          "output_type": "display_data",
          "data": {
            "text/plain": [
              "<Figure size 432x288 with 1 Axes>"
            ],
            "image/png": "[encoded data removed]"
          },
          "metadata": {
            "needs_background": "light"
          }
        }
      ],
      "source": [
        "acc_plot(history)"
      ]
    },
    {
      "cell_type": "code",
      "execution_count": 60,
      "metadata": {
        "id": "5-ko_Vg0Qaub",
        "colab": {
          "base_uri": "https://localhost:8080/"
        },
        "outputId": "c4e943c6-ab85-4667-8b93-7ca9c036c46d"
      },
      "outputs": [
        {
          "output_type": "stream",
          "name": "stdout",
          "text": [
            "50/50 [==============================] - 15s 296ms/step - loss: 0.6115 - accuracy: 0.8100\n"
          ]
        },
        {
          "output_type": "execute_result",
          "data": {
            "text/plain": [
              "[0.6114592552185059, 0.8100000023841858]"
            ]
          },
          "metadata": {},
          "execution_count": 60
        }
      ],
      "source": [
        "test_out=model.evaluate(train_gen,steps=50)\n",
        "print('acc:',test_out[1], 'loss:',test_out[0])"
      ]
    },
    {
      "cell_type": "code",
      "execution_count": 61,
      "metadata": {
        "id": "E7QJtcQkQauc",
        "outputId": "6b724b6d-477f-429e-a640-0ab3dfb03e59",
        "colab": {
          "base_uri": "https://localhost:8080/"
        }
      },
      "outputs": [
        {
          "output_type": "stream",
          "name": "stdout",
          "text": [
            "Model: \"sequential_3\"\n",
            "_________________________________________________________________\n",
            " Layer (type)                Output Shape              Param #   \n",
            "=================================================================\n",
            " mobilenet_1.00_224 (Functio  (None, 7, 7, 1024)       3228864   \n",
            " nal)                                                            \n",
            "                                                                 \n",
            " flatten_3 (Flatten)         (None, 50176)             0         \n",
            "                                                                 \n",
            " dense_6 (Dense)             (None, 1024)              51381248  \n",
            "                                                                 \n",
            " dropout_3 (Dropout)         (None, 1024)              0         \n",
            "                                                                 \n",
            " dense_7 (Dense)             (None, 50)                51250     \n",
            "                                                                 \n",
            "=================================================================\n",
            "Total params: 54,661,362\n",
            "Trainable params: 51,432,498\n",
            "Non-trainable params: 3,228,864\n",
            "_________________________________________________________________\n"
          ]
        }
      ],
      "source": [
        "model.summary()"
      ]
    },
    {
      "cell_type": "markdown",
      "source": [
        "PART **5**"
      ],
      "metadata": {
        "id": "BSKMwBJzuni0"
      }
    },
    {
      "cell_type": "markdown",
      "source": [
        "Freeze layer 13"
      ],
      "metadata": {
        "id": "PlwKcA3UurPV"
      }
    },
    {
      "cell_type": "code",
      "execution_count": 78,
      "metadata": {
        "id": "gBhoQx_gQaud"
      },
      "outputs": [],
      "source": [
        "conv_base.trainable=True\n",
        "\n",
        "set_trainable=False\n",
        "for layer in conv_base.layers:\n",
        "    if layer.name=='conv_dw_13':\n",
        "        set_trainable = True\n",
        "    if set_trainable :\n",
        "        layer.trainable=True\n",
        "    else :\n",
        "        layer.trainable=False\n"
      ]
    },
    {
      "cell_type": "code",
      "execution_count": 80,
      "metadata": {
        "id": "RWFiYRA1Qaue",
        "outputId": "cae25c29-2f9f-47a0-dd7b-eb2743ca50ce",
        "colab": {
          "base_uri": "https://localhost:8080/"
        }
      },
      "outputs": [
        {
          "output_type": "stream",
          "name": "stdout",
          "text": [
            "Model: \"sequential_3\"\n",
            "_________________________________________________________________\n",
            " Layer (type)                Output Shape              Param #   \n",
            "=================================================================\n",
            " mobilenet_1.00_224 (Functio  (None, 7, 7, 1024)       3228864   \n",
            " nal)                                                            \n",
            "                                                                 \n",
            " flatten_3 (Flatten)         (None, 50176)             0         \n",
            "                                                                 \n",
            " dense_6 (Dense)             (None, 1024)              51381248  \n",
            "                                                                 \n",
            " dropout_3 (Dropout)         (None, 1024)              0         \n",
            "                                                                 \n",
            " dense_7 (Dense)             (None, 50)                51250     \n",
            "                                                                 \n",
            "=================================================================\n",
            "Total params: 54,661,362\n",
            "Trainable params: 52,494,386\n",
            "Non-trainable params: 2,166,976\n",
            "_________________________________________________________________\n"
          ]
        }
      ],
      "source": [
        "model.summary()"
      ]
    },
    {
      "cell_type": "code",
      "source": [
        "len(train_gen)"
      ],
      "metadata": {
        "colab": {
          "base_uri": "https://localhost:8080/"
        },
        "id": "1-Y76ClgmXGp",
        "outputId": "8c0fa59f-4129-4309-b1d4-3aba43ea119f"
      },
      "execution_count": 81,
      "outputs": [
        {
          "output_type": "execute_result",
          "data": {
            "text/plain": [
              "225"
            ]
          },
          "metadata": {},
          "execution_count": 81
        }
      ]
    },
    {
      "cell_type": "code",
      "execution_count": 82,
      "metadata": {
        "id": "2iiprGEhQaue",
        "outputId": "3a04090f-5665-40aa-82be-fe90a6bc35c3",
        "colab": {
          "base_uri": "https://localhost:8080/"
        }
      },
      "outputs": [
        {
          "output_type": "stream",
          "name": "stderr",
          "text": [
            "/usr/local/lib/python3.7/dist-packages/keras/optimizer_v2/rmsprop.py:130: UserWarning: The `lr` argument is deprecated, use `learning_rate` instead.\n",
            "  super(RMSprop, self).__init__(name, **kwargs)\n",
            "/usr/local/lib/python3.7/dist-packages/ipykernel_launcher.py:6: UserWarning: `Model.fit_generator` is deprecated and will be removed in a future version. Please use `Model.fit`, which supports generators.\n",
            "  \n"
          ]
        },
        {
          "output_type": "stream",
          "name": "stdout",
          "text": [
            "Epoch 1/10\n",
            "225/225 [==============================] - 69s 300ms/step - loss: 1.3179 - accuracy: 0.6487 - val_loss: 0.9919 - val_accuracy: 0.7259\n",
            "Epoch 2/10\n",
            "225/225 [==============================] - 65s 291ms/step - loss: 1.2211 - accuracy: 0.6700 - val_loss: 0.9654 - val_accuracy: 0.7296\n",
            "Epoch 3/10\n",
            "225/225 [==============================] - 67s 298ms/step - loss: 1.1236 - accuracy: 0.6836 - val_loss: 0.8938 - val_accuracy: 0.7352\n",
            "Epoch 4/10\n",
            "225/225 [==============================] - 65s 291ms/step - loss: 1.0736 - accuracy: 0.6960 - val_loss: 0.9041 - val_accuracy: 0.7444\n",
            "Epoch 5/10\n",
            "225/225 [==============================] - 67s 297ms/step - loss: 1.0380 - accuracy: 0.7158 - val_loss: 0.9229 - val_accuracy: 0.7444\n",
            "Epoch 6/10\n",
            "225/225 [==============================] - 67s 297ms/step - loss: 0.9842 - accuracy: 0.7238 - val_loss: 0.9396 - val_accuracy: 0.7630\n",
            "Epoch 7/10\n",
            "225/225 [==============================] - 65s 290ms/step - loss: 0.9424 - accuracy: 0.7378 - val_loss: 0.8608 - val_accuracy: 0.7741\n",
            "Epoch 8/10\n",
            "225/225 [==============================] - 67s 297ms/step - loss: 0.9084 - accuracy: 0.7389 - val_loss: 0.8830 - val_accuracy: 0.7685\n",
            "Epoch 9/10\n",
            "225/225 [==============================] - 65s 288ms/step - loss: 0.8933 - accuracy: 0.7518 - val_loss: 0.8798 - val_accuracy: 0.7685\n",
            "Epoch 10/10\n",
            "225/225 [==============================] - 66s 295ms/step - loss: 0.8681 - accuracy: 0.7538 - val_loss: 0.8756 - val_accuracy: 0.7704\n"
          ]
        }
      ],
      "source": [
        "model.compile(optimizer=keras.optimizers.RMSprop(lr=2e-5),loss='categorical_crossentropy',metrics=['accuracy'])\n",
        "history = model.fit_generator(train_gen,\n",
        " epochs=10,\n",
        " steps_per_epoch=len(train_gen),\n",
        " validation_data=(val_gen));"
      ]
    },
    {
      "cell_type": "code",
      "execution_count": 83,
      "metadata": {
        "id": "6YVqCaIuQaue",
        "outputId": "69cb3b28-4efd-4755-a697-92110b0e5617",
        "colab": {
          "base_uri": "https://localhost:8080/"
        }
      },
      "outputs": [
        {
          "output_type": "stream",
          "name": "stdout",
          "text": [
            "50/50 [==============================] - 13s 267ms/step - loss: 0.3509 - accuracy: 0.8970\n",
            "acc: 0.8970000147819519 loss: 0.350898802280426\n"
          ]
        }
      ],
      "source": [
        "test_out=model.evaluate(train_gen,steps=50)\n",
        "print('acc:',test_out[1], 'loss:',test_out[0])"
      ]
    },
    {
      "cell_type": "code",
      "execution_count": 84,
      "metadata": {
        "id": "JUApSuOnQauf",
        "outputId": "88fbbb3b-d339-425f-ff56-cc7bc944be8f",
        "colab": {
          "base_uri": "https://localhost:8080/",
          "height": 295
        }
      },
      "outputs": [
        {
          "output_type": "display_data",
          "data": {
            "text/plain": [
              "<Figure size 432x288 with 1 Axes>"
            ],
            "image/png": "[encoded data removed]"
          },
          "metadata": {
            "needs_background": "light"
          }
        }
      ],
      "source": [
        "acc_plot(history)"
      ]
    },
    {
      "cell_type": "code",
      "execution_count": 85,
      "metadata": {
        "id": "_ou9y2ScQauf",
        "outputId": "b085485c-0c3f-4b75-a316-5237235f2779",
        "colab": {
          "base_uri": "https://localhost:8080/",
          "height": 295
        }
      },
      "outputs": [
        {
          "output_type": "display_data",
          "data": {
            "text/plain": [
              "<Figure size 432x288 with 1 Axes>"
            ],
            "image/png": "[encoded data removed]"
          },
          "metadata": {
            "needs_background": "light"
          }
        }
      ],
      "source": [
        "loss_plot(history)"
      ]
    },
    {
      "cell_type": "markdown",
      "source": [
        "PART **6**"
      ],
      "metadata": {
        "id": "IzmuqSF9uVNu"
      }
    },
    {
      "cell_type": "markdown",
      "source": [
        "Freeze layer 12 & 13\n"
      ],
      "metadata": {
        "id": "cXrRlH5xuyP-"
      }
    },
    {
      "cell_type": "code",
      "execution_count": 86,
      "metadata": {
        "id": "JKWZWVHUQauf"
      },
      "outputs": [],
      "source": [
        "conv_base.trainable=True\n",
        "\n",
        "set_trainable=False\n",
        "for layer in conv_base.layers:\n",
        "    if layer.name=='conv_dw_12':\n",
        "        set_trainable = True\n",
        "    if set_trainable :\n",
        "        layer.trainable=True\n",
        "    else :\n",
        "        layer.trainable=False\n",
        "\n",
        "\n"
      ]
    },
    {
      "cell_type": "code",
      "execution_count": 88,
      "metadata": {
        "id": "kxzLdEtMQaug",
        "colab": {
          "base_uri": "https://localhost:8080/"
        },
        "outputId": "6a03556a-a40c-4564-bd40-75d5680c3ac4"
      },
      "outputs": [
        {
          "output_type": "stream",
          "name": "stdout",
          "text": [
            "Model: \"sequential_3\"\n",
            "_________________________________________________________________\n",
            " Layer (type)                Output Shape              Param #   \n",
            "=================================================================\n",
            " mobilenet_1.00_224 (Functio  (None, 7, 7, 1024)       3228864   \n",
            " nal)                                                            \n",
            "                                                                 \n",
            " flatten_3 (Flatten)         (None, 50176)             0         \n",
            "                                                                 \n",
            " dense_6 (Dense)             (None, 1024)              51381248  \n",
            "                                                                 \n",
            " dropout_3 (Dropout)         (None, 1024)              0         \n",
            "                                                                 \n",
            " dense_7 (Dense)             (None, 50)                51250     \n",
            "                                                                 \n",
            "=================================================================\n",
            "Total params: 54,661,362\n",
            "Trainable params: 53,026,354\n",
            "Non-trainable params: 1,635,008\n",
            "_________________________________________________________________\n"
          ]
        }
      ],
      "source": [
        "model.summary()"
      ]
    },
    {
      "cell_type": "code",
      "execution_count": 89,
      "metadata": {
        "id": "zULOOSwGQaug",
        "colab": {
          "base_uri": "https://localhost:8080/"
        },
        "outputId": "ad6b7a71-3b8f-4a09-d8cd-955383d99585"
      },
      "outputs": [
        {
          "output_type": "stream",
          "name": "stderr",
          "text": [
            "/usr/local/lib/python3.7/dist-packages/keras/optimizer_v2/rmsprop.py:130: UserWarning: The `lr` argument is deprecated, use `learning_rate` instead.\n",
            "  super(RMSprop, self).__init__(name, **kwargs)\n",
            "/usr/local/lib/python3.7/dist-packages/ipykernel_launcher.py:7: UserWarning: `Model.fit_generator` is deprecated and will be removed in a future version. Please use `Model.fit`, which supports generators.\n",
            "  import sys\n"
          ]
        },
        {
          "output_type": "stream",
          "name": "stdout",
          "text": [
            "Epoch 1/10\n",
            "225/225 [==============================] - 69s 298ms/step - loss: 0.8876 - accuracy: 0.7507 - val_loss: 0.9071 - val_accuracy: 0.7630\n",
            "Epoch 2/10\n",
            "225/225 [==============================] - 66s 292ms/step - loss: 0.8111 - accuracy: 0.7749 - val_loss: 0.9068 - val_accuracy: 0.7685\n",
            "Epoch 3/10\n",
            "225/225 [==============================] - 67s 298ms/step - loss: 0.7876 - accuracy: 0.7818 - val_loss: 0.8864 - val_accuracy: 0.7796\n",
            "Epoch 4/10\n",
            "225/225 [==============================] - 66s 291ms/step - loss: 0.7830 - accuracy: 0.7771 - val_loss: 0.8772 - val_accuracy: 0.7741\n",
            "Epoch 5/10\n",
            "225/225 [==============================] - 67s 297ms/step - loss: 0.7283 - accuracy: 0.7884 - val_loss: 0.8658 - val_accuracy: 0.7778\n",
            "Epoch 6/10\n",
            "225/225 [==============================] - 66s 291ms/step - loss: 0.6891 - accuracy: 0.8080 - val_loss: 0.9887 - val_accuracy: 0.7741\n",
            "Epoch 7/10\n",
            "225/225 [==============================] - 67s 299ms/step - loss: 0.6666 - accuracy: 0.8084 - val_loss: 0.9289 - val_accuracy: 0.7648\n",
            "Epoch 8/10\n",
            "225/225 [==============================] - 65s 291ms/step - loss: 0.6746 - accuracy: 0.8027 - val_loss: 0.9259 - val_accuracy: 0.7722\n",
            "Epoch 9/10\n",
            "225/225 [==============================] - 68s 300ms/step - loss: 0.6757 - accuracy: 0.8133 - val_loss: 0.8655 - val_accuracy: 0.7722\n",
            "Epoch 10/10\n",
            "225/225 [==============================] - 68s 301ms/step - loss: 0.6474 - accuracy: 0.8104 - val_loss: 0.8696 - val_accuracy: 0.7926\n"
          ]
        }
      ],
      "source": [
        "model.compile(optimizer=keras.optimizers.RMSprop(lr=2e-5),loss='categorical_crossentropy',metrics=['accuracy'])\n",
        "\n",
        "history = model.fit_generator(train_gen,\n",
        " epochs=10,\n",
        " steps_per_epoch=len(train_gen),\n",
        " validation_data=(val_gen));"
      ]
    },
    {
      "cell_type": "code",
      "execution_count": 90,
      "metadata": {
        "id": "bhoYwrZCQauh",
        "colab": {
          "base_uri": "https://localhost:8080/"
        },
        "outputId": "bbc4cffb-6097-4692-c770-2e46808ed069"
      },
      "outputs": [
        {
          "output_type": "stream",
          "name": "stdout",
          "text": [
            "50/50 [==============================] - 14s 272ms/step - loss: 0.2364 - accuracy: 0.9150\n",
            "acc: 0.9150000214576721 loss: 0.23641742765903473\n"
          ]
        }
      ],
      "source": [
        "test_out=model.evaluate(train_gen,steps=50)\n",
        "print('acc:',test_out[1], 'loss:',test_out[0])"
      ]
    },
    {
      "cell_type": "code",
      "execution_count": 91,
      "metadata": {
        "id": "-iF5ZvGRQauh",
        "colab": {
          "base_uri": "https://localhost:8080/",
          "height": 295
        },
        "outputId": "f6c81da6-4351-45d3-c062-1b9ede859227"
      },
      "outputs": [
        {
          "output_type": "display_data",
          "data": {
            "text/plain": [
              "<Figure size 432x288 with 1 Axes>"
            ],
            "image/png": "[encoded data removed]"
          },
          "metadata": {
            "needs_background": "light"
          }
        }
      ],
      "source": [
        "acc_plot(history)"
      ]
    },
    {
      "cell_type": "code",
      "execution_count": 92,
      "metadata": {
        "id": "cy4Y8J6LQauh",
        "colab": {
          "base_uri": "https://localhost:8080/",
          "height": 295
        },
        "outputId": "ee11b824-7f10-4120-8e48-98fea9066845"
      },
      "outputs": [
        {
          "output_type": "display_data",
          "data": {
            "text/plain": [
              "<Figure size 432x288 with 1 Axes>"
            ],
            "image/png": "[encoded data removed]"
          },
          "metadata": {
            "needs_background": "light"
          }
        }
      ],
      "source": [
        "loss_plot(history)"
      ]
    },
    {
      "cell_type": "markdown",
      "source": [
        "در مقایسه نتایج بخش 5 و 6 میتوان دید که با آموزش دیدن وزن ها لایه های کانولوشن شاهد تغییرات در دقت هستیم اما میتوان این را نیز در نظر گرفت با تفاوت زیادی نیست.اما در کل با با تغییر وزن های بیشتر مدل بر روی دیتاست ما مطابق بیشتری خواهد داشت اما پیچیدگی و هزینه بیشتری صرف میکنیم.\n",
        "یک مورد دیگر که باید اشاره کرد محدودیتی است که ما در اجرای و اموزش این شبکه داشتیم که به دلیل پارامتر های زیاد امکان اجرای اپوک های بیشتر نبود که در ان صورت قطعا به دقت بالاتری دست پیدا میکردیم"
      ],
      "metadata": {
        "id": "9ZF5vHIhvxJw"
      }
    }
  ],
  "metadata": {
    "interpreter": {
      "hash": "1baa965d5efe3ac65b79dfc60c0d706280b1da80fedb7760faf2759126c4f253"
    },
    "kernelspec": {
      "display_name": "Python 3.8.0 64-bit",
      "language": "python",
      "name": "python3"
    },
    "language_info": {
      "codemirror_mode": {
        "name": "ipython",
        "version": 3
      },
      "file_extension": ".py",
      "mimetype": "text/x-python",
      "name": "python",
      "nbconvert_exporter": "python",
      "pygments_lexer": "ipython3",
      "version": "3.8.0"
    },
    "orig_nbformat": 4,
    "colab": {
      "name": "part 5 , 6.ipynb",
      "provenance": [],
      "collapsed_sections": []
    },
    "accelerator": "GPU",
    "gpuClass": "standard"
  },
  "nbformat": 4,
  "nbformat_minor": 0
}